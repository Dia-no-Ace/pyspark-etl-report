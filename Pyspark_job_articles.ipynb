{
 "cells": [
  {
   "cell_type": "code",
   "execution_count": 1,
   "id": "53777779-0799-4e0c-8d6d-7d86c7b5026b",
   "metadata": {},
   "outputs": [],
   "source": [
    "from pyspark.sql import SparkSession"
   ]
  },
  {
   "cell_type": "code",
   "execution_count": 2,
   "id": "c64a8f75-019f-4289-baf7-15808f0f1581",
   "metadata": {},
   "outputs": [],
   "source": [
    "from pyspark.sql.types import *"
   ]
  },
  {
   "cell_type": "code",
   "execution_count": 68,
   "id": "45766f90-4fdb-4261-a3f9-2c958caa2093",
   "metadata": {},
   "outputs": [],
   "source": [
    "from pyspark.sql.functions import col, lit, coalesce, count, desc, asc, explode, concat_ws"
   ]
  },
  {
   "cell_type": "code",
   "execution_count": 4,
   "id": "af08e185-1037-4365-ad0d-e0a29d8c8a6c",
   "metadata": {},
   "outputs": [
    {
     "name": "stderr",
     "output_type": "stream",
     "text": [
      "Setting default log level to \"WARN\".\n",
      "To adjust logging level use sc.setLogLevel(newLevel). For SparkR, use setLogLevel(newLevel).\n",
      "25/06/18 22:13:20 WARN NativeCodeLoader: Unable to load native-hadoop library for your platform... using builtin-java classes where applicable\n"
     ]
    }
   ],
   "source": [
    "spark = SparkSession.builder\\\n",
    "        .master(\"local[1]\")\\\n",
    "        .appName('PySpark_Articles')\\\n",
    "        .getOrCreate()"
   ]
  },
  {
   "cell_type": "code",
   "execution_count": 5,
   "id": "81db724a-cc24-4207-9ecb-038cc0cb401b",
   "metadata": {},
   "outputs": [
    {
     "name": "stderr",
     "output_type": "stream",
     "text": [
      "                                                                                "
     ]
    }
   ],
   "source": [
    "json_file = 'articles.json'\n",
    "data = spark.read.json(json_file)"
   ]
  },
  {
   "cell_type": "code",
   "execution_count": 6,
   "id": "e677a2d0-64f8-45f4-9c78-0cdd6bc8a2a1",
   "metadata": {},
   "outputs": [
    {
     "name": "stdout",
     "output_type": "stream",
     "text": [
      "root\n",
      " |-- canonical_url: string (nullable = true)\n",
      " |-- collection_id: long (nullable = true)\n",
      " |-- comments_count: long (nullable = true)\n",
      " |-- cover_image: string (nullable = true)\n",
      " |-- created_at: string (nullable = true)\n",
      " |-- crossposted_at: string (nullable = true)\n",
      " |-- description: string (nullable = true)\n",
      " |-- edited_at: string (nullable = true)\n",
      " |-- flare_tag: struct (nullable = true)\n",
      " |    |-- bg_color_hex: string (nullable = true)\n",
      " |    |-- name: string (nullable = true)\n",
      " |    |-- text_color_hex: string (nullable = true)\n",
      " |-- id: long (nullable = true)\n",
      " |-- language: string (nullable = true)\n",
      " |-- last_comment_at: string (nullable = true)\n",
      " |-- organization: struct (nullable = true)\n",
      " |    |-- name: string (nullable = true)\n",
      " |    |-- profile_image: string (nullable = true)\n",
      " |    |-- profile_image_90: string (nullable = true)\n",
      " |    |-- slug: string (nullable = true)\n",
      " |    |-- username: string (nullable = true)\n",
      " |-- path: string (nullable = true)\n",
      " |-- positive_reactions_count: long (nullable = true)\n",
      " |-- public_reactions_count: long (nullable = true)\n",
      " |-- published_at: string (nullable = true)\n",
      " |-- published_timestamp: string (nullable = true)\n",
      " |-- readable_publish_date: string (nullable = true)\n",
      " |-- reading_time_minutes: long (nullable = true)\n",
      " |-- slug: string (nullable = true)\n",
      " |-- social_image: string (nullable = true)\n",
      " |-- subforem_id: long (nullable = true)\n",
      " |-- tag_list: array (nullable = true)\n",
      " |    |-- element: string (containsNull = true)\n",
      " |-- tags: string (nullable = true)\n",
      " |-- title: string (nullable = true)\n",
      " |-- type_of: string (nullable = true)\n",
      " |-- url: string (nullable = true)\n",
      " |-- user: struct (nullable = true)\n",
      " |    |-- github_username: string (nullable = true)\n",
      " |    |-- name: string (nullable = true)\n",
      " |    |-- profile_image: string (nullable = true)\n",
      " |    |-- profile_image_90: string (nullable = true)\n",
      " |    |-- twitter_username: string (nullable = true)\n",
      " |    |-- user_id: long (nullable = true)\n",
      " |    |-- username: string (nullable = true)\n",
      " |    |-- website_url: string (nullable = true)\n",
      "\n"
     ]
    }
   ],
   "source": [
    "data.printSchema()"
   ]
  },
  {
   "cell_type": "code",
   "execution_count": 6,
   "id": "871d8476-b5f0-47b5-87ae-7e8d0b092070",
   "metadata": {},
   "outputs": [],
   "source": [
    "articles_raw = data.select('type_of', 'id', 'title', 'description', 'slug', 'url', 'comments_count', \n",
    "            'public_reactions_count', 'published_timestamp', 'language', 'subforem_id', \n",
    "            'positive_reactions_count', 'created_at', 'published_at', 'reading_time_minutes', \n",
    "            'tag_list', 'user.user_id', 'user.name', 'user.username'). \\\n",
    "        withColumn(\"published_at\", col(\"published_at\").cast('timestamp')). \\\n",
    "        withColumn(\"created_at\", col(\"created_at\").cast('timestamp'))"
   ]
  },
  {
   "cell_type": "code",
   "execution_count": 7,
   "id": "224982ff-b489-4114-a4c6-2a8b28eeae8c",
   "metadata": {},
   "outputs": [
    {
     "name": "stdout",
     "output_type": "stream",
     "text": [
      "+-------+-------+-----------+--------------------------------------------------------------------------------------------------------+----------------+-----------------------------------+--------------+----------------------+--------------------+--------+-----------+------------------------+-------------------+-------------------+--------------------+-----------------------------+-------+-----------+--------+\n",
      "|type_of|id     |title      |description                                                                                             |slug            |url                                |comments_count|public_reactions_count|published_timestamp |language|subforem_id|positive_reactions_count|created_at         |published_at       |reading_time_minutes|tag_list                     |user_id|name       |username|\n",
      "+-------+-------+-----------+--------------------------------------------------------------------------------------------------------+----------------+-----------------------------------+--------------+----------------------+--------------------+--------+-----------+------------------------+-------------------+-------------------+--------------------+-----------------------------+-------+-----------+--------+\n",
      "|article|2597174|Meme Monday|Meme Monday!  Today's cover image comes from last week's thread.  DEV is an inclusive space! Humor in...|meme-monday-114b|https://dev.to/ben/meme-monday-114b|43            |35                    |2025-06-16T12:16:59Z|en      |1          |35                      |2025-06-16 16:17:03|2025-06-16 16:16:59|1                   |[discuss, watercooler, jokes]|1      |Ben Halpern|ben     |\n",
      "+-------+-------+-----------+--------------------------------------------------------------------------------------------------------+----------------+-----------------------------------+--------------+----------------------+--------------------+--------+-----------+------------------------+-------------------+-------------------+--------------------+-----------------------------+-------+-----------+--------+\n",
      "only showing top 1 row\n",
      "\n"
     ]
    }
   ],
   "source": [
    "articles_raw.show(1, False)"
   ]
  },
  {
   "cell_type": "code",
   "execution_count": 8,
   "id": "472d5157-4254-4649-a8a3-4efd5059f9fb",
   "metadata": {},
   "outputs": [],
   "source": [
    "articles = data.select('type_of', 'id', 'title', 'slug', 'url', 'comments_count', \n",
    "            'public_reactions_count', 'published_timestamp', \n",
    "            'positive_reactions_count', 'created_at', 'published_at', 'reading_time_minutes', \n",
    "            'tag_list', 'user.user_id'). \\\n",
    "        withColumn(\"published_at\", col(\"published_at\").cast('timestamp')). \\\n",
    "        withColumn(\"created_at\", col(\"created_at\").cast('timestamp'))"
   ]
  },
  {
   "cell_type": "code",
   "execution_count": 9,
   "id": "85fa5a26-b9f1-4631-934e-31a61660aba3",
   "metadata": {},
   "outputs": [
    {
     "name": "stdout",
     "output_type": "stream",
     "text": [
      "+-------+-------+--------------------+--------------------+--------------------+--------------+----------------------+--------------------+------------------------+-------------------+-------------------+--------------------+--------------------+-------+\n",
      "|type_of|     id|               title|                slug|                 url|comments_count|public_reactions_count| published_timestamp|positive_reactions_count|         created_at|       published_at|reading_time_minutes|            tag_list|user_id|\n",
      "+-------+-------+--------------------+--------------------+--------------------+--------------+----------------------+--------------------+------------------------+-------------------+-------------------+--------------------+--------------------+-------+\n",
      "|article|2597174|         Meme Monday|    meme-monday-114b|https://dev.to/be...|            43|                    35|2025-06-16T12:16:59Z|                      35|2025-06-16 16:17:03|2025-06-16 16:16:59|                   1|[discuss, waterco...|      1|\n",
      "|article|2586286|Does Cursor Gener...|does-cursor-gener...|https://dev.to/ee...|             0|                    12|2025-06-16T09:47:00Z|                      12|2025-06-12 09:42:52|2025-06-16 13:47:00|                   6|[android, a11y, a...| 201004|\n",
      "|article|2525761|Understanding Kub...|understanding-kub...|https://dev.to/au...|             3|                     5|2025-06-16T13:02:59Z|                       5|2025-05-25 21:04:47|2025-06-16 17:02:59|                   1|[kubernetes, devo...|   9688|\n",
      "+-------+-------+--------------------+--------------------+--------------------+--------------+----------------------+--------------------+------------------------+-------------------+-------------------+--------------------+--------------------+-------+\n",
      "only showing top 3 rows\n",
      "\n"
     ]
    }
   ],
   "source": [
    "articles.show(3)"
   ]
  },
  {
   "cell_type": "code",
   "execution_count": 10,
   "id": "07b11bc6-0296-4ea5-a3f7-1dcf94f42237",
   "metadata": {},
   "outputs": [
    {
     "data": {
      "text/plain": [
       "14998"
      ]
     },
     "execution_count": 10,
     "metadata": {},
     "output_type": "execute_result"
    }
   ],
   "source": [
    "#проверка на дубликаты articles\n",
    "articles.distinct().count()"
   ]
  },
  {
   "cell_type": "code",
   "execution_count": 11,
   "id": "7949c94a-5578-4da4-821d-2fd8393faca5",
   "metadata": {},
   "outputs": [],
   "source": [
    "#удаление дубликатов\n",
    "articles = articles.dropDuplicates()"
   ]
  },
  {
   "cell_type": "code",
   "execution_count": 12,
   "id": "2b10a9d9-d667-40b9-bab5-04bfce7a9fb1",
   "metadata": {},
   "outputs": [],
   "source": [
    "users = data.select('user.user_id', 'user.name', 'user.username', 'user.website_url')"
   ]
  },
  {
   "cell_type": "code",
   "execution_count": 13,
   "id": "ca07f55e-765d-436f-9801-fc86dceb380d",
   "metadata": {},
   "outputs": [
    {
     "name": "stdout",
     "output_type": "stream",
     "text": [
      "+-------+--------------------+---------------+--------------------+\n",
      "|user_id|                name|       username|         website_url|\n",
      "+-------+--------------------+---------------+--------------------+\n",
      "|      1|         Ben Halpern|            ben|http://benhalpern...|\n",
      "| 201004|               Eevis|eevajonnapanula| https://eevis.codes|\n",
      "|   9688|       Aurélie Vache|   aurelievache|   http://scraly.com|\n",
      "|   9597|         Nick Taylor|   nickytonline|https://OneTipAWe...|\n",
      "| 192035|    Tilde A. Thurium|     annthurium|https://tildethur...|\n",
      "| 156043|Rita {FlyNerd} Ly...|         ritaly|http://www.flyner...|\n",
      "| 527439|      Christoph Görn|          goern|   https://b4mad.net|\n",
      "|2711665|              Shayan|          shayy| https://userjot.com|\n",
      "|  35233|      Burdette Lamar|  burdettelamar|                null|\n",
      "|2924029|      davinceleecode| davinceleecode|                null|\n",
      "|   8745|        Chris Jarvis|   jarvisscript|http://christophe...|\n",
      "| 135503|       Erik Dietrich|       daedtech|https://daedtech....|\n",
      "|2841795|           Tim Kelly|       timkelly|                null|\n",
      "| 542277|        PRANTA Dutta|         pranta|  https://pranta.dev|\n",
      "|    264|            Jess Lee|           jess|                null|\n",
      "| 233697|Ingo Steinke, web...|    ingosteinke|https://www.ingo-...|\n",
      "| 248483|        Maxim Saplin|    maximsaplin|https://www.linke...|\n",
      "|   1075|     Peter Kim Frank|          peter|http://peterkimfr...|\n",
      "|   8745|        Chris Jarvis|   jarvisscript|http://christophe...|\n",
      "| 859945|            Ben Link|   linkbenjamin|https://www.linke...|\n",
      "+-------+--------------------+---------------+--------------------+\n",
      "only showing top 20 rows\n",
      "\n"
     ]
    }
   ],
   "source": [
    "users.show()"
   ]
  },
  {
   "cell_type": "code",
   "execution_count": 14,
   "id": "8a91e9ab-cd63-4963-b1d5-9b47b1181d8e",
   "metadata": {},
   "outputs": [
    {
     "data": {
      "text/plain": [
       "False"
      ]
     },
     "execution_count": 14,
     "metadata": {},
     "output_type": "execute_result"
    }
   ],
   "source": [
    "#проверка на дубликаты\n",
    "users.distinct().count() == users.count()"
   ]
  },
  {
   "cell_type": "code",
   "execution_count": 15,
   "id": "113a5a7b-1c07-49dc-9438-447e3498dad4",
   "metadata": {},
   "outputs": [],
   "source": [
    "users = users.dropDuplicates()"
   ]
  },
  {
   "cell_type": "code",
   "execution_count": 16,
   "id": "da313bca-0d7f-4940-b2af-7c12ac055541",
   "metadata": {},
   "outputs": [
    {
     "data": {
      "text/plain": [
       "6044"
      ]
     },
     "execution_count": 16,
     "metadata": {},
     "output_type": "execute_result"
    }
   ],
   "source": [
    "users.count()"
   ]
  },
  {
   "cell_type": "code",
   "execution_count": 17,
   "id": "1292a818-b89f-41a8-98bf-ef8dab90afb4",
   "metadata": {},
   "outputs": [],
   "source": [
    "json_file_videos = 'videos.json'\n",
    "data_videos = spark.read.json(json_file_videos)"
   ]
  },
  {
   "cell_type": "code",
   "execution_count": 18,
   "id": "8b3a28dd-7102-43c9-b704-3cc05c63ecc3",
   "metadata": {},
   "outputs": [
    {
     "name": "stdout",
     "output_type": "stream",
     "text": [
      "root\n",
      " |-- cloudinary_video_url: string (nullable = true)\n",
      " |-- id: long (nullable = true)\n",
      " |-- path: string (nullable = true)\n",
      " |-- title: string (nullable = true)\n",
      " |-- type_of: string (nullable = true)\n",
      " |-- user: struct (nullable = true)\n",
      " |    |-- name: string (nullable = true)\n",
      " |-- user_id: long (nullable = true)\n",
      " |-- video_duration_in_minutes: string (nullable = true)\n",
      " |-- video_source_url: string (nullable = true)\n",
      "\n"
     ]
    }
   ],
   "source": [
    "data_videos.printSchema()"
   ]
  },
  {
   "cell_type": "code",
   "execution_count": 19,
   "id": "551fc117-003b-4fd6-b945-caad5f9661f7",
   "metadata": {},
   "outputs": [
    {
     "name": "stdout",
     "output_type": "stream",
     "text": [
      "+--------------------+-------+--------------------+--------------------+-------------+-------------------+-------+-------------------------+--------------------+\n",
      "|cloudinary_video_url|     id|                path|               title|      type_of|               user|user_id|video_duration_in_minutes|    video_source_url|\n",
      "+--------------------+-------+--------------------+--------------------+-------------+-------------------+-------+-------------------------+--------------------+\n",
      "|https://media2.de...|2594229|/kingsmen732/ambi...|Ambient lighting ...|video_article|      {B Mithilesh}|1631667|                    01:19|https://dw71fyauz...|\n",
      "|https://media2.de...|2597387|/kingsmen732/bypa...|Bypass Netflix’s ...|video_article|      {B Mithilesh}|1631667|                    00:38|https://dw71fyauz...|\n",
      "|https://media2.de...|2562728|/insightworks/bus...|Business Central ...|video_article|    {Insight Works}|3081293|                    10:39|https://dw71fyauz...|\n",
      "|https://media2.de...|2588924|/ai_agi/hello-wor...|\"Hello, world\" 🖥...|video_article|           {AI AGI}|3185505|                    02:13|https://dw71fyauz...|\n",
      "|https://media2.de...|2588138|/pullflow/project...|Project of the We...|video_article|     {Riyana Patel}|2915485|                    02:00|https://dw71fyauz...|\n",
      "|https://media2.de...|2579437|/mohitdecodes/are...|Are you preparing...|video_article|    {Mohit Decodes}|3202928|                    00:54|https://dw71fyauz...|\n",
      "|https://media2.de...|2469043|/insightworks/how...|How to use tools ...|video_article|    {Insight Works}|3081293|                    08:34|https://dw71fyauz...|\n",
      "|https://media2.de...|2457519|/itihon/handling-...|Handling asynchro...|video_article|           {itihon}|2994365|                    14:20|https://dw71fyauz...|\n",
      "|https://media2.de...|2450635|/mmafrar/big-data...|Big Data Processi...|video_article|  {Afrar Malakooth}| 697273|                    02:36|https://dw71fyauz...|\n",
      "|https://media2.de...|2542388|/pullflow/project...|Project of the We...|video_article|     {Riyana Patel}|2915485|                    03:04|https://dw71fyauz...|\n",
      "|https://media2.de...|2437516|/mmafrar/big-data...|Big Data Processi...|video_article|  {Afrar Malakooth}| 697273|                    03:02|https://dw71fyauz...|\n",
      "|https://media2.de...|2546464|/ankit_rattan/dep...|      Deploy on Jira|video_article|     {Ankit Rattan}|1961546|                    10:28|https://dw71fyauz...|\n",
      "|https://media2.de...|2531690|/teamcamp/streaml...|Streamline Your W...|video_article|     {Pratham naik}|2667579|                    00:24|https://dw71fyauz...|\n",
      "|https://media2.de...|2430254|/mmafrar/big-data...|Big Data Processi...|video_article|  {Afrar Malakooth}| 697273|                    01:42|https://dw71fyauz...|\n",
      "|https://media2.de...|2429944|/mmafrar/big-data...|Big Data Processi...|video_article|  {Afrar Malakooth}| 697273|                    04:26|https://dw71fyauz...|\n",
      "|https://media2.de...|2428453|/mmafrar/big-data...|Big Data Processi...|video_article|  {Afrar Malakooth}| 697273|                    01:52|https://dw71fyauz...|\n",
      "|https://media2.de...|2532073|/optimajet/a-true...|A True React Hook...|video_article|{Optimajet Limited}|1475516|                    04:52|https://dw71fyauz...|\n",
      "|https://media2.de...|2533001|/d2d_weizhi/3-rea...|3 Reasons Why I S...|video_article|              {D2D}|2649629|                    00:07|https://dw71fyauz...|\n",
      "|https://media2.de...|2427070|/mmafrar/big-data...|Big Data Processi...|video_article|  {Afrar Malakooth}| 697273|                    02:01|https://dw71fyauz...|\n",
      "|https://media2.de...|2426964|/mmafrar/big-data...|Big Data Processi...|video_article|  {Afrar Malakooth}| 697273|                    01:32|https://dw71fyauz...|\n",
      "+--------------------+-------+--------------------+--------------------+-------------+-------------------+-------+-------------------------+--------------------+\n",
      "only showing top 20 rows\n",
      "\n"
     ]
    }
   ],
   "source": [
    "data_videos.show()"
   ]
  },
  {
   "cell_type": "code",
   "execution_count": 20,
   "id": "f45de19d-b9d3-4a13-8565-3c352d0ebd55",
   "metadata": {},
   "outputs": [],
   "source": [
    "videos = data_videos.select('id', 'title', 'type_of', 'user.name', 'user_id', 'video_duration_in_minutes', 'video_source_url')"
   ]
  },
  {
   "cell_type": "code",
   "execution_count": 21,
   "id": "3c02de23-dc1e-465b-95d8-6e458d5cccf5",
   "metadata": {},
   "outputs": [
    {
     "name": "stdout",
     "output_type": "stream",
     "text": [
      "+-------+--------------------+-------------+-----------------+-------+-------------------------+--------------------+\n",
      "|     id|               title|      type_of|             name|user_id|video_duration_in_minutes|    video_source_url|\n",
      "+-------+--------------------+-------------+-----------------+-------+-------------------------+--------------------+\n",
      "|2594229|Ambient lighting ...|video_article|      B Mithilesh|1631667|                    01:19|https://dw71fyauz...|\n",
      "|2597387|Bypass Netflix’s ...|video_article|      B Mithilesh|1631667|                    00:38|https://dw71fyauz...|\n",
      "|2562728|Business Central ...|video_article|    Insight Works|3081293|                    10:39|https://dw71fyauz...|\n",
      "|2588924|\"Hello, world\" 🖥...|video_article|           AI AGI|3185505|                    02:13|https://dw71fyauz...|\n",
      "|2588138|Project of the We...|video_article|     Riyana Patel|2915485|                    02:00|https://dw71fyauz...|\n",
      "|2579437|Are you preparing...|video_article|    Mohit Decodes|3202928|                    00:54|https://dw71fyauz...|\n",
      "|2469043|How to use tools ...|video_article|    Insight Works|3081293|                    08:34|https://dw71fyauz...|\n",
      "|2457519|Handling asynchro...|video_article|           itihon|2994365|                    14:20|https://dw71fyauz...|\n",
      "|2450635|Big Data Processi...|video_article|  Afrar Malakooth| 697273|                    02:36|https://dw71fyauz...|\n",
      "|2542388|Project of the We...|video_article|     Riyana Patel|2915485|                    03:04|https://dw71fyauz...|\n",
      "|2437516|Big Data Processi...|video_article|  Afrar Malakooth| 697273|                    03:02|https://dw71fyauz...|\n",
      "|2546464|      Deploy on Jira|video_article|     Ankit Rattan|1961546|                    10:28|https://dw71fyauz...|\n",
      "|2531690|Streamline Your W...|video_article|     Pratham naik|2667579|                    00:24|https://dw71fyauz...|\n",
      "|2430254|Big Data Processi...|video_article|  Afrar Malakooth| 697273|                    01:42|https://dw71fyauz...|\n",
      "|2429944|Big Data Processi...|video_article|  Afrar Malakooth| 697273|                    04:26|https://dw71fyauz...|\n",
      "|2428453|Big Data Processi...|video_article|  Afrar Malakooth| 697273|                    01:52|https://dw71fyauz...|\n",
      "|2532073|A True React Hook...|video_article|Optimajet Limited|1475516|                    04:52|https://dw71fyauz...|\n",
      "|2533001|3 Reasons Why I S...|video_article|              D2D|2649629|                    00:07|https://dw71fyauz...|\n",
      "|2427070|Big Data Processi...|video_article|  Afrar Malakooth| 697273|                    02:01|https://dw71fyauz...|\n",
      "|2426964|Big Data Processi...|video_article|  Afrar Malakooth| 697273|                    01:32|https://dw71fyauz...|\n",
      "+-------+--------------------+-------------+-----------------+-------+-------------------------+--------------------+\n",
      "only showing top 20 rows\n",
      "\n"
     ]
    }
   ],
   "source": [
    "videos.show()"
   ]
  },
  {
   "cell_type": "code",
   "execution_count": 22,
   "id": "4b23267a-801b-4e1b-a678-a89a7367c2e1",
   "metadata": {},
   "outputs": [
    {
     "data": {
      "text/plain": [
       "1711"
      ]
     },
     "execution_count": 22,
     "metadata": {},
     "output_type": "execute_result"
    }
   ],
   "source": [
    "#проверка на дубликаты\n",
    "videos.count()"
   ]
  },
  {
   "cell_type": "code",
   "execution_count": 23,
   "id": "dd1c9e09-3e97-4035-9292-d6cf25182a62",
   "metadata": {},
   "outputs": [
    {
     "data": {
      "text/plain": [
       "1711"
      ]
     },
     "execution_count": 23,
     "metadata": {},
     "output_type": "execute_result"
    }
   ],
   "source": [
    "videos.distinct().count()"
   ]
  },
  {
   "cell_type": "code",
   "execution_count": null,
   "id": "f5cf734c-b17d-4fe9-8abe-798e15e2de44",
   "metadata": {},
   "outputs": [],
   "source": [
    "#Записываем в БД\n"
   ]
  },
  {
   "cell_type": "code",
   "execution_count": 42,
   "id": "f6963e32-058e-40f0-9aab-17f654310708",
   "metadata": {},
   "outputs": [],
   "source": [
    "jdbc_url = \"jdbc:postgresql://localhost:5432/nataly\"\n",
    "connection_properties = {\n",
    "    \"user\": \"postgres\",\n",
    "    \"password\": \"postgres\",\n",
    "    \"driver\": \"org.postgresql.Driver\"\n",
    "}"
   ]
  },
  {
   "cell_type": "code",
   "execution_count": 14,
   "id": "777810fa-17d7-4123-b6fb-6628c160ea3b",
   "metadata": {},
   "outputs": [
    {
     "name": "stderr",
     "output_type": "stream",
     "text": [
      "25/06/17 00:02:02 WARN package: Truncated the string representation of a plan since it was too large. This behavior can be adjusted by setting 'spark.sql.debug.maxToStringFields'.\n",
      "                                                                                "
     ]
    }
   ],
   "source": [
    "articles_raw.write.jdbc(\n",
    "    url=jdbc_url,\n",
    "    table=\"pp_articles.articles_raw\",\n",
    "    mode=\"overwrite\", # или \"append\", \"ignore\", \"error\"\n",
    "    properties=connection_properties\n",
    ")"
   ]
  },
  {
   "cell_type": "code",
   "execution_count": 128,
   "id": "f68aca68-c229-444e-876a-94d1c9415520",
   "metadata": {},
   "outputs": [],
   "source": [
    "articles.write.jdbc(\n",
    "    url=jdbc_url,\n",
    "    table=\"pp_articles.articles\",\n",
    "    mode=\"overwrite\", # или \"append\", \"ignore\", \"error\"\n",
    "    properties=connection_properties\n",
    ")"
   ]
  },
  {
   "cell_type": "code",
   "execution_count": 141,
   "id": "55a37859-fdbd-4e34-a41e-9b18125dbd4d",
   "metadata": {},
   "outputs": [],
   "source": [
    "users.write.jdbc(\n",
    "    url=jdbc_url,\n",
    "    table=\"pp_articles.users\",\n",
    "    mode=\"overwrite\", # или \"append\", \"ignore\", \"error\"\n",
    "    properties=connection_properties\n",
    ")"
   ]
  },
  {
   "cell_type": "code",
   "execution_count": 25,
   "id": "a1bc0f4f-0dc2-4d76-9e36-7419e21da17b",
   "metadata": {},
   "outputs": [],
   "source": [
    "videos.write.jdbc(\n",
    "    url=jdbc_url,\n",
    "    table=\"pp_articles.videos\",\n",
    "    mode=\"overwrite\", # или \"append\", \"ignore\", \"error\"\n",
    "    properties=connection_properties\n",
    ")"
   ]
  },
  {
   "cell_type": "code",
   "execution_count": 78,
   "id": "e560648c-e78f-42d1-abc2-86a40e79e205",
   "metadata": {},
   "outputs": [],
   "source": [
    "#замена нулевых значений на ноль в колонке title\n",
    "#users_with_videos = users_with_videos.withColumn('title', coalesce('title', lit(0)))"
   ]
  },
  {
   "cell_type": "code",
   "execution_count": 24,
   "id": "715aa900-84fd-4ace-b3b7-bf0d0d424075",
   "metadata": {},
   "outputs": [],
   "source": [
    "#новый датафрейм с кол-вом видео по пользователям\n",
    "users_with_videos = videos.groupBy('user_id').agg(count(\"title\").alias(\"video_cnt\"))"
   ]
  },
  {
   "cell_type": "code",
   "execution_count": 25,
   "id": "05665b9a-96df-4482-a8e3-f3cfffb20372",
   "metadata": {},
   "outputs": [
    {
     "name": "stdout",
     "output_type": "stream",
     "text": [
      "+-------+---------+\n",
      "|user_id|video_cnt|\n",
      "+-------+---------+\n",
      "| 776627|        1|\n",
      "|1182761|        1|\n",
      "| 178146|        1|\n",
      "|1410108|        1|\n",
      "| 118274|        1|\n",
      "+-------+---------+\n",
      "only showing top 5 rows\n",
      "\n"
     ]
    }
   ],
   "source": [
    "users_with_videos.show(5)"
   ]
  },
  {
   "cell_type": "code",
   "execution_count": 26,
   "id": "31516b61-2fad-4534-8585-4b913dfb9656",
   "metadata": {},
   "outputs": [],
   "source": [
    "#новый датафрейм с кол-вом статей по пользователям \n",
    "articles_by_users = articles.groupBy('user_id').agg(count(\"id\").alias(\"articles_cnt\"))"
   ]
  },
  {
   "cell_type": "code",
   "execution_count": 27,
   "id": "6c7e038e-3945-4a54-a221-c15becfb14ec",
   "metadata": {},
   "outputs": [
    {
     "name": "stdout",
     "output_type": "stream",
     "text": [
      "+-------+------------+\n",
      "|user_id|articles_cnt|\n",
      "+-------+------------+\n",
      "| 436375|           6|\n",
      "|  51056|           5|\n",
      "| 659184|           2|\n",
      "| 194630|          14|\n",
      "| 307749|           1|\n",
      "+-------+------------+\n",
      "only showing top 5 rows\n",
      "\n"
     ]
    }
   ],
   "source": [
    "articles_by_users.show(5)"
   ]
  },
  {
   "cell_type": "code",
   "execution_count": 28,
   "id": "b52baeac-f0c3-410f-8714-8ceb3a06305a",
   "metadata": {},
   "outputs": [],
   "source": [
    "#джойним два этих датафрейма\n",
    "top_users = articles_by_users.join(users_with_videos, on='user_id', how='left')"
   ]
  },
  {
   "cell_type": "code",
   "execution_count": 29,
   "id": "e89a011b-9cdf-44fc-8bad-b1861d983ae4",
   "metadata": {},
   "outputs": [
    {
     "name": "stdout",
     "output_type": "stream",
     "text": [
      "+-------+------------+---------+\n",
      "|user_id|articles_cnt|video_cnt|\n",
      "+-------+------------+---------+\n",
      "| 436375|           6|     null|\n",
      "|  51056|           5|     null|\n",
      "| 659184|           2|     null|\n",
      "| 194630|          14|     null|\n",
      "| 307749|           1|     null|\n",
      "+-------+------------+---------+\n",
      "only showing top 5 rows\n",
      "\n"
     ]
    }
   ],
   "source": [
    "top_users.show(5)"
   ]
  },
  {
   "cell_type": "code",
   "execution_count": 30,
   "id": "72cbbdd9-07eb-4b2c-9668-bdf42339d285",
   "metadata": {},
   "outputs": [
    {
     "data": {
      "text/plain": [
       "6044"
      ]
     },
     "execution_count": 30,
     "metadata": {},
     "output_type": "execute_result"
    }
   ],
   "source": [
    "top_users.count()"
   ]
  },
  {
   "cell_type": "code",
   "execution_count": 31,
   "id": "1e62679f-879e-4728-b314-dfde59aa21fc",
   "metadata": {},
   "outputs": [
    {
     "data": {
      "text/plain": [
       "124"
      ]
     },
     "execution_count": 31,
     "metadata": {},
     "output_type": "execute_result"
    }
   ],
   "source": [
    "#пользователи с видео\n",
    "top_users.filter(col('video_cnt').isNotNull()).count()"
   ]
  },
  {
   "cell_type": "code",
   "execution_count": 32,
   "id": "aa283224-0e3f-4805-8a87-24cc3acc43da",
   "metadata": {},
   "outputs": [
    {
     "name": "stdout",
     "output_type": "stream",
     "text": [
      "+-------+------------+---------+\n",
      "|user_id|articles_cnt|video_cnt|\n",
      "+-------+------------+---------+\n",
      "| 358418|           3|        1|\n",
      "|  83627|           1|        1|\n",
      "|1109311|           1|        1|\n",
      "| 364684|           2|        1|\n",
      "|   2882|           2|       22|\n",
      "|1106033|           1|        2|\n",
      "| 284014|          10|        1|\n",
      "| 192035|           1|        1|\n",
      "| 114176|           1|        1|\n",
      "| 378160|           1|        2|\n",
      "| 215856|           5|        1|\n",
      "|  11207|           6|        1|\n",
      "|    264|         136|        2|\n",
      "|1262818|           2|        1|\n",
      "| 307576|           2|       90|\n",
      "|1438636|           1|        1|\n",
      "| 147310|           1|        1|\n",
      "| 108782|           6|       21|\n",
      "| 555587|           7|       18|\n",
      "| 271838|          17|       32|\n",
      "+-------+------------+---------+\n",
      "only showing top 20 rows\n",
      "\n"
     ]
    }
   ],
   "source": [
    "top_users.filter(col('video_cnt').isNotNull()).show()"
   ]
  },
  {
   "cell_type": "code",
   "execution_count": 33,
   "id": "3e153b56-9e5c-49f0-bd7e-7479225b10f5",
   "metadata": {},
   "outputs": [],
   "source": [
    "#замена нулевых значений на ноль в колонке video_cnt\n",
    "top_users = top_users.withColumn('video_cnt', coalesce('video_cnt', lit(0)))"
   ]
  },
  {
   "cell_type": "code",
   "execution_count": 36,
   "id": "94c8d542-82db-4bb2-a115-54344d9e75d3",
   "metadata": {},
   "outputs": [],
   "source": [
    "top_users = top_users.join(users, on='user_id', how='left').select('user_id', 'username', 'articles_cnt', 'video_cnt')"
   ]
  },
  {
   "cell_type": "code",
   "execution_count": 40,
   "id": "82a1acad-d4c1-48c0-9652-7ceab30097d6",
   "metadata": {},
   "outputs": [
    {
     "name": "stdout",
     "output_type": "stream",
     "text": [
      "+-------+------------------+------------+---------+\n",
      "|user_id|          username|articles_cnt|video_cnt|\n",
      "+-------+------------------+------------+---------+\n",
      "|      3|   thepracticaldev|         593|        7|\n",
      "|      1|               ben|         503|        1|\n",
      "|  31047|             sloan|         300|        0|\n",
      "|  38578|michaeltharrington|         278|        0|\n",
      "|    264|              jess|         136|        2|\n",
      "| 345658|           bekahhw|         115|        5|\n",
      "|   9597|      nickytonline|         101|        9|\n",
      "| 370165|     dailydevtips1|          97|        0|\n",
      "| 342975|     graciegregory|          89|        0|\n",
      "| 159737|             madza|          86|        0|\n",
      "| 494502|       erinposting|          73|        0|\n",
      "| 161327|     alvaromontoro|          59|        0|\n",
      "| 968077|       rachelfazio|          47|        0|\n",
      "|   9688|      aurelievache|          42|        0|\n",
      "| 302741|    blackgirlbytes|          42|        0|\n",
      "| 180171|        devencourt|          41|        0|\n",
      "| 110884|           codepo8|          40|        0|\n",
      "| 201004|   eevajonnapanula|          36|        0|\n",
      "|   8745|      jarvisscript|          36|        0|\n",
      "| 152613|             sm0ke|          34|        0|\n",
      "+-------+------------------+------------+---------+\n",
      "only showing top 20 rows\n",
      "\n"
     ]
    }
   ],
   "source": [
    "#лидеры по кол-ву статей\n",
    "top_users_by_articles = top_users.sort(desc(\"articles_cnt\"))\n",
    "top_users_by_articles.show()"
   ]
  },
  {
   "cell_type": "code",
   "execution_count": 43,
   "id": "0d0ef294-db81-4a3f-8a2f-c50c8a29c6f8",
   "metadata": {},
   "outputs": [],
   "source": [
    "#записываем в БД\n",
    "top_users_by_articles.write.jdbc(\n",
    "    url=jdbc_url,\n",
    "    table=\"pp_articles.top_users_by_articles\",\n",
    "    mode=\"overwrite\", # или \"append\", \"ignore\", \"error\"\n",
    "    properties=connection_properties\n",
    ")\n"
   ]
  },
  {
   "cell_type": "code",
   "execution_count": 41,
   "id": "827924dc-2ef1-4ce5-b058-1616ee15d179",
   "metadata": {},
   "outputs": [
    {
     "name": "stdout",
     "output_type": "stream",
     "text": [
      "+-------+-----------------+------------+---------+\n",
      "|user_id|         username|articles_cnt|video_cnt|\n",
      "+-------+-----------------+------------+---------+\n",
      "| 231136|     cheukting_ho|           2|      118|\n",
      "| 307576| eleftheriabatsou|           2|       90|\n",
      "|1255335|jguerrero-voxel51|           3|       57|\n",
      "| 271838|     waylonwalker|          17|       32|\n",
      "| 397557|      mishmanners|          31|       32|\n",
      "|  19970|        bdougieyo|          30|       31|\n",
      "| 407879|           whykay|           9|       29|\n",
      "|   2882|     vaidehijoshi|           2|       22|\n",
      "| 108782|      andrewbrown|           6|       21|\n",
      "|  33233|   realtoughcandy|           4|       20|\n",
      "| 555587|          kgilpin|           7|       18|\n",
      "| 175743|     coderarchive|           2|       17|\n",
      "|   2416|          joelnet|           3|       16|\n",
      "| 386069|        hammertoe|           3|       16|\n",
      "|1222232|        gpiechnik|           1|       14|\n",
      "|  45906|       satansdeer|           1|       12|\n",
      "|  38442|         codebubb|           2|       12|\n",
      "| 329972|      supabase_io|           3|       11|\n",
      "| 126437|           dabit3|          14|       10|\n",
      "|   9597|     nickytonline|         101|        9|\n",
      "+-------+-----------------+------------+---------+\n",
      "only showing top 20 rows\n",
      "\n"
     ]
    }
   ],
   "source": [
    "#лидеры по кол-ву видео\n",
    "top_users_by_videos = top_users.sort(desc(\"video_cnt\"))\n",
    "top_users_by_videos.show()"
   ]
  },
  {
   "cell_type": "code",
   "execution_count": 44,
   "id": "6473fd61-2a62-4a58-8df3-643c0ee5542b",
   "metadata": {},
   "outputs": [],
   "source": [
    "#записываем в БД\n",
    "top_users_by_videos.write.jdbc(\n",
    "    url=jdbc_url,\n",
    "    table=\"pp_articles.top_users_by_videos\",\n",
    "    mode=\"overwrite\", # или \"append\", \"ignore\", \"error\"\n",
    "    properties=connection_properties\n",
    ")"
   ]
  },
  {
   "cell_type": "code",
   "execution_count": 46,
   "id": "fcf784e4-f200-4593-9b0a-23bef99304ac",
   "metadata": {},
   "outputs": [
    {
     "data": {
      "text/plain": [
       "6044"
      ]
     },
     "execution_count": 46,
     "metadata": {},
     "output_type": "execute_result"
    }
   ],
   "source": [
    "users.count()"
   ]
  },
  {
   "cell_type": "code",
   "execution_count": 47,
   "id": "3b2ffafe-963e-4f56-8fce-a5c4e79032f3",
   "metadata": {},
   "outputs": [
    {
     "data": {
      "text/plain": [
       "61"
      ]
     },
     "execution_count": 47,
     "metadata": {},
     "output_type": "execute_result"
    }
   ],
   "source": [
    "#отсортируем articles по кол-ву позитивных реакций (>= 1000)\n",
    "articles.sort(desc(\"positive_reactions_count\")).filter(col('positive_reactions_count') >= 1000).count()"
   ]
  },
  {
   "cell_type": "code",
   "execution_count": 48,
   "id": "78c47f7e-35a9-4670-9cba-f41fe11e8e89",
   "metadata": {},
   "outputs": [],
   "source": [
    "#отсортируем articles по кол-ву позитивных реакций (топ-1000)\n",
    "top_1000_articles = articles.sort(desc(\"positive_reactions_count\")).limit(1000)"
   ]
  },
  {
   "cell_type": "code",
   "execution_count": 49,
   "id": "6a92bce1-0fa6-45d3-aa37-506c413618c5",
   "metadata": {},
   "outputs": [
    {
     "name": "stdout",
     "output_type": "stream",
     "text": [
      "+-------+------+--------------------+--------------------+--------------------+--------------+----------------------+--------------------+------------------------+-------------------+-------------------+--------------------+--------------------+-------+\n",
      "|type_of|    id|               title|                slug|                 url|comments_count|public_reactions_count| published_timestamp|positive_reactions_count|         created_at|       published_at|reading_time_minutes|            tag_list|user_id|\n",
      "+-------+------+--------------------+--------------------+--------------------+--------------+----------------------+--------------------+------------------------+-------------------+-------------------+--------------------+--------------------+-------+\n",
      "|article|347446|35+ Free React te...|35-free-react-tem...|https://dev.to/da...|            71|                  4159|2020-06-02T10:44:43Z|                    4159|2020-06-01 17:51:59|2020-06-02 14:44:43|                  15|[react, webdev, j...| 327338|\n",
      "|article|342603|Best GitHub Repos...|best-github-repos...|https://dev.to/sa...|            56|                  2722|2020-05-24T09:48:51Z|                    2722|2020-05-24 08:33:49|2020-05-24 13:48:51|                   5|[github, webdev, ...| 393931|\n",
      "|article|563096|Complete Flexbox ...|flexbox-cheat-she...|https://dev.to/jo...|            85|                  2646|2021-01-10T16:09:20Z|                    2646|2021-01-06 14:28:51|2021-01-10 20:09:20|                   6|[css, webdev, beg...| 497983|\n",
      "+-------+------+--------------------+--------------------+--------------------+--------------+----------------------+--------------------+------------------------+-------------------+-------------------+--------------------+--------------------+-------+\n",
      "only showing top 3 rows\n",
      "\n"
     ]
    }
   ],
   "source": [
    "top_1000_articles.show(3)"
   ]
  },
  {
   "cell_type": "code",
   "execution_count": 50,
   "id": "04ffe118-1489-41a7-b2f3-b9a67452885f",
   "metadata": {},
   "outputs": [
    {
     "name": "stdout",
     "output_type": "stream",
     "text": [
      "+------+--------------------+------------------------+-------+----------+\n",
      "|    id|               title|positive_reactions_count|user_id|       tag|\n",
      "+------+--------------------+------------------------+-------+----------+\n",
      "|347446|35+ Free React te...|                    4159| 327338|     react|\n",
      "|347446|35+ Free React te...|                    4159| 327338|    webdev|\n",
      "|347446|35+ Free React te...|                    4159| 327338|javascript|\n",
      "+------+--------------------+------------------------+-------+----------+\n",
      "only showing top 3 rows\n",
      "\n"
     ]
    }
   ],
   "source": [
    "#разворачиваем список тегов\n",
    "explode_tags = top_1000_articles.select('id', 'title', 'positive_reactions_count', 'user_id', explode('tag_list').alias('tag'))\n",
    "explode_tags.show(3)"
   ]
  },
  {
   "cell_type": "code",
   "execution_count": 51,
   "id": "4f740a4c-5ce3-42cc-8564-9b1798e4fe23",
   "metadata": {},
   "outputs": [
    {
     "name": "stdout",
     "output_type": "stream",
     "text": [
      "+----------+-------+\n",
      "|       tag|tag_cnt|\n",
      "+----------+-------+\n",
      "|     react|    169|\n",
      "|    webdev|    524|\n",
      "|javascript|    411|\n",
      "+----------+-------+\n",
      "only showing top 3 rows\n",
      "\n"
     ]
    }
   ],
   "source": [
    "#самые популярные теги\n",
    "top_tags = explode_tags.groupBy('tag').agg((count(\"id\")).alias('tag_cnt'))\n",
    "top_tags.show(3)\n"
   ]
  },
  {
   "cell_type": "code",
   "execution_count": 52,
   "id": "1b878af7-d5d8-4e93-8f12-9cea6e4214e2",
   "metadata": {},
   "outputs": [
    {
     "name": "stdout",
     "output_type": "stream",
     "text": [
      "+------------+-------+\n",
      "|         tag|tag_cnt|\n",
      "+------------+-------+\n",
      "|      webdev|    524|\n",
      "|  javascript|    411|\n",
      "|   beginners|    314|\n",
      "|       react|    169|\n",
      "|productivity|    169|\n",
      "|         css|    143|\n",
      "|      career|    128|\n",
      "|    tutorial|    127|\n",
      "| programming|    103|\n",
      "|  codenewbie|     86|\n",
      "|        html|     73|\n",
      "|        node|     62|\n",
      "|      github|     60|\n",
      "|  opensource|     57|\n",
      "|     showdev|     40|\n",
      "|         git|     38|\n",
      "|      devops|     36|\n",
      "|     discuss|     31|\n",
      "|  typescript|     30|\n",
      "|      python|     25|\n",
      "+------------+-------+\n",
      "\n"
     ]
    }
   ],
   "source": [
    "top_tags_20 = top_tags.sort(desc('tag_cnt')).limit(20)\n",
    "top_tags_20.show()"
   ]
  },
  {
   "cell_type": "code",
   "execution_count": 53,
   "id": "3d00523a-eb8d-4321-b439-e410a6c5fe90",
   "metadata": {},
   "outputs": [],
   "source": [
    "#записываем в БД\n",
    "top_tags_20.write.jdbc(\n",
    "    url=jdbc_url,\n",
    "    table=\"pp_articles.top_tags_20\",\n",
    "    mode=\"overwrite\", # или \"append\", \"ignore\", \"error\"\n",
    "    properties=connection_properties\n",
    ")\n"
   ]
  },
  {
   "cell_type": "code",
   "execution_count": 73,
   "id": "9cada2e3-bd1c-48f9-b459-0fec428112b0",
   "metadata": {},
   "outputs": [
    {
     "data": {
      "text/plain": [
       "392"
      ]
     },
     "execution_count": 73,
     "metadata": {},
     "output_type": "execute_result"
    }
   ],
   "source": [
    "top_tags.sort(desc('tag_cnt')).count()"
   ]
  },
  {
   "cell_type": "code",
   "execution_count": 82,
   "id": "0d81033b-bf5a-4bd5-a557-3dda1e405d4e",
   "metadata": {},
   "outputs": [],
   "source": [
    "#самые популярные пары тегов\n",
    "#self-join таблицы explode_tags\n",
    "explode_tags.createOrReplaceTempView(\"explode_tags\")\n",
    "popular_tags = spark.sql(\"\"\"SELECT a.tag as tag_1, b.tag as tag_2\n",
    "                       FROM explode_tags a, explode_tags b\n",
    "                       WHERE a.id = b.id and a.tag != b.tag\"\"\")"
   ]
  },
  {
   "cell_type": "code",
   "execution_count": 83,
   "id": "87fb73bc-090b-4cc3-8b16-ec42d775691c",
   "metadata": {},
   "outputs": [
    {
     "name": "stdout",
     "output_type": "stream",
     "text": [
      "+----------+------------+\n",
      "|     tag_1|       tag_2|\n",
      "+----------+------------+\n",
      "|     react|        html|\n",
      "|     react|  javascript|\n",
      "|     react|      webdev|\n",
      "|    webdev|        html|\n",
      "|    webdev|  javascript|\n",
      "|    webdev|       react|\n",
      "|javascript|        html|\n",
      "|javascript|      webdev|\n",
      "|javascript|       react|\n",
      "|      html|  javascript|\n",
      "|      html|      webdev|\n",
      "|      html|       react|\n",
      "|    github|productivity|\n",
      "|    github|  javascript|\n",
      "|    github|      webdev|\n",
      "|    webdev|productivity|\n",
      "|    webdev|  javascript|\n",
      "|    webdev|      github|\n",
      "|javascript|productivity|\n",
      "|javascript|      webdev|\n",
      "+----------+------------+\n",
      "only showing top 20 rows\n",
      "\n"
     ]
    }
   ],
   "source": [
    "popular_tags.show()"
   ]
  },
  {
   "cell_type": "code",
   "execution_count": 84,
   "id": "bb2a42e8-f8d7-46da-beea-f62d185b5c68",
   "metadata": {},
   "outputs": [],
   "source": [
    "popular_tags = popular_tags.groupBy('tag_1', 'tag_2').count().sort(desc('count'))"
   ]
  },
  {
   "cell_type": "code",
   "execution_count": 88,
   "id": "4655e4ec-2160-4f9e-abf6-5294c1d2832d",
   "metadata": {},
   "outputs": [
    {
     "name": "stdout",
     "output_type": "stream",
     "text": [
      "+------------+------------+-----+\n",
      "|       tag_1|       tag_2|count|\n",
      "+------------+------------+-----+\n",
      "|      webdev|  javascript|  275|\n",
      "|      webdev|   beginners|  182|\n",
      "|       react|  javascript|  139|\n",
      "|  javascript|   beginners|  132|\n",
      "|       react|      webdev|  108|\n",
      "|         css|      webdev|  100|\n",
      "|      webdev|    tutorial|   80|\n",
      "|      webdev|productivity|   76|\n",
      "|      webdev| programming|   59|\n",
      "|   beginners|      career|   57|\n",
      "|   beginners|    tutorial|   56|\n",
      "|      webdev|        html|   54|\n",
      "|productivity|   beginners|   52|\n",
      "|  javascript|        node|   50|\n",
      "|         css|  javascript|   49|\n",
      "|      career|      webdev|   48|\n",
      "|   beginners|       react|   42|\n",
      "|      career|productivity|   40|\n",
      "|  codenewbie|   beginners|   35|\n",
      "|  javascript|        html|   34|\n",
      "+------------+------------+-----+\n",
      "only showing top 20 rows\n",
      "\n"
     ]
    }
   ],
   "source": [
    "popular_tags.show()"
   ]
  },
  {
   "cell_type": "code",
   "execution_count": 89,
   "id": "2d55af69-d50a-4a6e-bbaf-4bd8ac217864",
   "metadata": {},
   "outputs": [],
   "source": [
    "popular_tags = popular_tags.drop_duplicates(['count']).sort(desc('count'))"
   ]
  },
  {
   "cell_type": "code",
   "execution_count": 90,
   "id": "349f36ae-d6ff-4c7a-9500-852b68f882ae",
   "metadata": {},
   "outputs": [],
   "source": [
    "popular_tags = popular_tags.withColumn('tags_pair', concat_ws(' - ', col('tag_1'), col('tag_2')))"
   ]
  },
  {
   "cell_type": "code",
   "execution_count": 97,
   "id": "1be79b07-9860-40b1-a5e5-07b13fb505c6",
   "metadata": {},
   "outputs": [
    {
     "name": "stdout",
     "output_type": "stream",
     "text": [
      "+--------------------+-----+\n",
      "|           tags_pair|count|\n",
      "+--------------------+-----+\n",
      "| webdev - javascript|  275|\n",
      "|  webdev - beginners|  182|\n",
      "|  react - javascript|  139|\n",
      "|javascript - begi...|  132|\n",
      "|      react - webdev|  108|\n",
      "|        css - webdev|  100|\n",
      "|   webdev - tutorial|   80|\n",
      "|webdev - producti...|   76|\n",
      "|webdev - programming|   59|\n",
      "|  beginners - career|   57|\n",
      "|beginners - tutorial|   56|\n",
      "|       webdev - html|   54|\n",
      "|productivity - be...|   52|\n",
      "|   javascript - node|   50|\n",
      "|    css - javascript|   49|\n",
      "|     career - webdev|   48|\n",
      "|   beginners - react|   42|\n",
      "|career - producti...|   40|\n",
      "|codenewbie - begi...|   35|\n",
      "|   javascript - html|   34|\n",
      "+--------------------+-----+\n",
      "only showing top 20 rows\n",
      "\n"
     ]
    }
   ],
   "source": [
    "popular_tags_pair = popular_tags.select('tags_pair', 'count').limit(40)\n",
    "popular_tags_pair.show()"
   ]
  },
  {
   "cell_type": "code",
   "execution_count": 98,
   "id": "d80653cc-7590-4354-a7b8-b22aa68c000e",
   "metadata": {},
   "outputs": [],
   "source": [
    "#записываем в БД\n",
    "popular_tags_pair.write.jdbc(\n",
    "    url=jdbc_url,\n",
    "    table=\"pp_articles.popular_tags_pair\",\n",
    "    mode=\"overwrite\", # или \"append\", \"ignore\", \"error\"\n",
    "    properties=connection_properties\n",
    ")\n"
   ]
  },
  {
   "cell_type": "code",
   "execution_count": 259,
   "id": "036fdfb7-820c-4479-a022-53fe1b868403",
   "metadata": {},
   "outputs": [
    {
     "name": "stdout",
     "output_type": "stream",
     "text": [
      "+-------+--------------------+--------------+----------------------+--------------------+--------------------+\n",
      "|user_id|               title|comments_count|public_reactions_count|reading_time_minutes|            tag_list|\n",
      "+-------+--------------------+--------------+----------------------+--------------------+--------------------+\n",
      "| 327338|35+ Free React te...|            71|                  4159|                  15|[react, webdev, j...|\n",
      "| 393931|Best GitHub Repos...|            56|                  2722|                   5|[github, webdev, ...|\n",
      "| 497983|Complete Flexbox ...|            85|                  2646|                   6|[css, webdev, beg...|\n",
      "| 327338|50+ free tools an...|            89|                  2519|                   8|[design, webdev, ...|\n",
      "| 487739|10 Fun APIs to Us...|            71|                  2106|                   4|[javascript, webd...|\n",
      "| 126437|The Complete Guid...|            78|                  2074|                  28|[web3, blockchain...|\n",
      "| 302877|5 Javascript Proj...|            15|                  2016|                   4|[javascript, webd...|\n",
      "| 327338|50+ Free tools an...|            23|                  1991|                   8|[design, webdev, ...|\n",
      "| 473518|A Guide to Securi...|            46|                  1975|                  11|    [node, security]|\n",
      "| 194630|7 Unique APIs for...|            47|                  1973|                   3|[javascript, begi...|\n",
      "| 250777|35 Website Cheat ...|            65|                  1844|                   7|[html, css, javas...|\n",
      "| 203467|10 Inspiring Idea...|            97|                  1842|                   4|[html, css, javas...|\n",
      "|  44940|Super Useful CSS ...|           127|                  1834|                   8|[css, webdev, ope...|\n",
      "| 461159|Complete Introduc...|            28|                  1791|                  35|[computerscience,...|\n",
      "| 351805|Tailwind CSS Reso...|            55|                  1786|                   6|[css, tailwindcss...|\n",
      "| 833086|Take Your Github ...|            44|                  1782|                  14|[beginners, githu...|\n",
      "| 203467|9 Popular GitHub ...|            41|                  1774|                   5|[github, webdev, ...|\n",
      "|  44940|CLI tools you won...|           118|                  1750|                  34|[bash, rust, tool...|\n",
      "|  72478|The Power of Pure...|            23|                  1742|                  14|[javascript, webd...|\n",
      "| 370165|5 full-stack proj...|            44|                  1710|                   3|[react, node, ios...|\n",
      "+-------+--------------------+--------------+----------------------+--------------------+--------------------+\n",
      "only showing top 20 rows\n",
      "\n"
     ]
    }
   ],
   "source": [
    "#самые популярные статьи по реакциям\n",
    "articles.select('user_id', 'title', 'comments_count', 'public_reactions_count', 'reading_time_minutes', 'tag_list').sort(desc('public_reactions_count')).limit(50).show()"
   ]
  },
  {
   "cell_type": "code",
   "execution_count": 263,
   "id": "ad4a8a36-4a45-4d8a-a306-fc708e7bfdf8",
   "metadata": {},
   "outputs": [
    {
     "name": "stdout",
     "output_type": "stream",
     "text": [
      "+-------+--------------------+--------------+----------------------+--------------------+--------------------+\n",
      "|user_id|               title|comments_count|public_reactions_count|reading_time_minutes|            tag_list|\n",
      "+-------+--------------------+--------------+----------------------+--------------------+--------------------+\n",
      "|  31047|Welcome Thread - ...|           354|                    47|                   1|           [welcome]|\n",
      "|  31047|Welcome Thread - ...|           343|                    56|                   1|           [welcome]|\n",
      "|  31047|Welcome Thread - ...|           334|                    36|                   1|           [welcome]|\n",
      "| 262904|Do You Still Use ...|           320|                   216|                   1|[discuss, git, te...|\n",
      "|  31047|Welcome Thread - ...|           312|                    29|                   1|           [welcome]|\n",
      "|  31047|Welcome Thread - ...|           307|                    33|                   1|           [welcome]|\n",
      "|  31047|Welcome Thread - ...|           306|                    49|                   1|           [welcome]|\n",
      "|  31047|Welcome Thread - ...|           296|                    35|                   1|           [welcome]|\n",
      "|  31047|Welcome Thread - ...|           293|                    46|                   1|           [welcome]|\n",
      "|  31047|Welcome Thread - ...|           291|                    39|                   1|           [welcome]|\n",
      "|  31047|Welcome Thread - ...|           287|                    50|                   1|           [welcome]|\n",
      "|  31047|Welcome Thread - ...|           282|                    34|                   1|           [welcome]|\n",
      "|  31047|Welcome Thread - ...|           280|                    37|                   1|           [welcome]|\n",
      "|  31047|Welcome Thread - ...|           278|                    48|                   1|           [welcome]|\n",
      "|  31047|Welcome Thread - ...|           276|                    40|                   1|           [welcome]|\n",
      "|  31047|Welcome Thread - ...|           276|                    31|                   1|           [welcome]|\n",
      "|  31047|Welcome Thread - ...|           273|                    36|                   1|           [welcome]|\n",
      "| 270619|Show me your pers...|           273|                   126|                   1|[discuss, healthy...|\n",
      "|  31047|Welcome Thread - ...|           267|                    58|                   1|           [welcome]|\n",
      "|  31047|Welcome Thread - ...|           267|                    48|                   1|           [welcome]|\n",
      "+-------+--------------------+--------------+----------------------+--------------------+--------------------+\n",
      "only showing top 20 rows\n",
      "\n"
     ]
    }
   ],
   "source": [
    "#самые комментируемые статьи \n",
    "articles.select('user_id', 'title', 'comments_count', 'public_reactions_count', 'reading_time_minutes', 'tag_list').sort(desc('comments_count')).limit(50).show()"
   ]
  },
  {
   "cell_type": "code",
   "execution_count": null,
   "id": "1df0cab4-a951-49d3-a976-833561ff1946",
   "metadata": {},
   "outputs": [],
   "source": []
  }
 ],
 "metadata": {
  "kernelspec": {
   "display_name": "Python 3 (ipykernel)",
   "language": "python",
   "name": "python3"
  },
  "language_info": {
   "codemirror_mode": {
    "name": "ipython",
    "version": 3
   },
   "file_extension": ".py",
   "mimetype": "text/x-python",
   "name": "python",
   "nbconvert_exporter": "python",
   "pygments_lexer": "ipython3",
   "version": "3.11.12"
  }
 },
 "nbformat": 4,
 "nbformat_minor": 5
}
