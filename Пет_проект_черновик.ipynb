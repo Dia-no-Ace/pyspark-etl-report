{
 "cells": [
  {
   "cell_type": "code",
   "execution_count": 1,
   "metadata": {
    "id": "yCaSFiyBf1-i"
   },
   "outputs": [],
   "source": [
    "import requests\n",
    "import json"
   ]
  },
  {
   "cell_type": "code",
   "execution_count": 2,
   "metadata": {
    "colab": {
     "base_uri": "https://localhost:8080/"
    },
    "id": "oaC0KEm4YBRL",
    "outputId": "f0b39608-a3c1-4b1f-b8c9-083eb7cc5091"
   },
   "outputs": [
    {
     "name": "stdout",
     "output_type": "stream",
     "text": [
      "20\n"
     ]
    }
   ],
   "source": [
    "data = []\n",
    "for i in range(1,11):\n",
    "  url = f\"https://dev.to/api/articles?page={i}&per_page=2\"\n",
    "  try:\n",
    "    response = requests.get(url)\n",
    "    response.raise_for_status()\n",
    "    data.extend(response.json())\n",
    "  except requests.exceptions.Timeout as e:\n",
    "        print(f\"Request timed out: {e}\")\n",
    "  except requests.exceptions.ConnectionError as e:\n",
    "        print(f\"Connection error: {e}\")\n",
    "  except requests.exceptions.HTTPError as e:\n",
    "      print(f\"HTTP error: {e}\")\n",
    "  except requests.exceptions.RequestException as e:\n",
    "        print(f\"Other error: {e}\")\n",
    "print(len(data))"
   ]
  },
  {
   "cell_type": "code",
   "execution_count": 3,
   "metadata": {
    "id": "SF-CLVT6bVbm"
   },
   "outputs": [],
   "source": [
    "with open('data.json', 'w') as file:\n",
    "  for el in data:\n",
    "    json.dump(el, file)\n",
    "    file.write('\\n')"
   ]
  },
  {
   "cell_type": "code",
   "execution_count": null,
   "metadata": {},
   "outputs": [],
   "source": []
  }
 ],
 "metadata": {
  "colab": {
   "provenance": []
  },
  "kernelspec": {
   "display_name": "Python 3 (ipykernel)",
   "language": "python",
   "name": "python3"
  },
  "language_info": {
   "codemirror_mode": {
    "name": "ipython",
    "version": 3
   },
   "file_extension": ".py",
   "mimetype": "text/x-python",
   "name": "python",
   "nbconvert_exporter": "python",
   "pygments_lexer": "ipython3",
   "version": "3.11.12"
  }
 },
 "nbformat": 4,
 "nbformat_minor": 4
}
