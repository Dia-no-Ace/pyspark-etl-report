{
 "cells": [
  {
   "cell_type": "code",
   "execution_count": null,
   "id": "53777779-0799-4e0c-8d6d-7d86c7b5026b",
   "metadata": {},
   "outputs": [],
   "source": [
    "user = \"postgres\"\n",
    "password = \"postgres\"\n",
    "port = \"5432\"\n",
    "database = \"nataly\"\n",
    "\n"
   ]
  },
  {
   "cell_type": "code",
   "execution_count": null,
   "id": "cba30ea2",
   "metadata": {},
   "outputs": [],
   "source": [
    "jdbc_url = f\"jdbc:postgresql://host.docker.internal:{port}/{database}\"\n",
    "connection_properties = {\n",
    "    \"user\": user,\n",
    "    \"password\": password,\n",
    "    \"driver\": \"org.postgresql.Driver\"\n",
    "}"
   ]
  },
  {
   "cell_type": "code",
   "execution_count": null,
   "id": "c64a8f75-019f-4289-baf7-15808f0f1581",
   "metadata": {},
   "outputs": [],
   "source": [
    "from pyspark.sql import SparkSession\n",
    "from pyspark.sql.types import *\n",
    "from pyspark.sql.functions import col, lit, coalesce, count, desc, asc, explode, concat_ws"
   ]
  },
  {
   "cell_type": "code",
   "execution_count": null,
   "id": "af08e185-1037-4365-ad0d-e0a29d8c8a6c",
   "metadata": {},
   "outputs": [],
   "source": [
    "spark = SparkSession.builder\\\n",
    "        .master(\"local[1]\")\\\n",
    "        .config(\"spark.hadoop.fs.default.name\", f\"hdfs://localhost:9000\")\\\n",
    "        .config(\"spark.hadoop.fs.defaultFS\", f\"hdfs://localhost:9000\")\\\n",
    "        .config(\"spark.jars.packages\",\"org.postgresql:postgresql:42.7.7\")\\\n",
    "        .appName('PySpark_Articles')\\\n",
    "        .getOrCreate()"
   ]
  },
  {
   "cell_type": "code",
   "execution_count": null,
   "id": "fbab0029-4c0e-49b9-90a0-c57d66da1ac2",
   "metadata": {},
   "outputs": [],
   "source": [
    "data = spark.read.json(\"hdfs://namenode:9000/articles.json\")"
   ]
  },
  {
   "cell_type": "code",
   "execution_count": null,
   "id": "e677a2d0-64f8-45f4-9c78-0cdd6bc8a2a1",
   "metadata": {},
   "outputs": [
    {
     "name": "stdout",
     "output_type": "stream",
     "text": [
      "root\n",
      " |-- canonical_url: string (nullable = true)\n",
      " |-- collection_id: long (nullable = true)\n",
      " |-- comments_count: long (nullable = true)\n",
      " |-- cover_image: string (nullable = true)\n",
      " |-- created_at: string (nullable = true)\n",
      " |-- crossposted_at: string (nullable = true)\n",
      " |-- description: string (nullable = true)\n",
      " |-- edited_at: string (nullable = true)\n",
      " |-- flare_tag: struct (nullable = true)\n",
      " |    |-- bg_color_hex: string (nullable = true)\n",
      " |    |-- name: string (nullable = true)\n",
      " |    |-- text_color_hex: string (nullable = true)\n",
      " |-- id: long (nullable = true)\n",
      " |-- language: string (nullable = true)\n",
      " |-- last_comment_at: string (nullable = true)\n",
      " |-- organization: struct (nullable = true)\n",
      " |    |-- name: string (nullable = true)\n",
      " |    |-- profile_image: string (nullable = true)\n",
      " |    |-- profile_image_90: string (nullable = true)\n",
      " |    |-- slug: string (nullable = true)\n",
      " |    |-- username: string (nullable = true)\n",
      " |-- path: string (nullable = true)\n",
      " |-- positive_reactions_count: long (nullable = true)\n",
      " |-- public_reactions_count: long (nullable = true)\n",
      " |-- published_at: string (nullable = true)\n",
      " |-- published_timestamp: string (nullable = true)\n",
      " |-- readable_publish_date: string (nullable = true)\n",
      " |-- reading_time_minutes: long (nullable = true)\n",
      " |-- slug: string (nullable = true)\n",
      " |-- social_image: string (nullable = true)\n",
      " |-- subforem_id: long (nullable = true)\n",
      " |-- tag_list: array (nullable = true)\n",
      " |    |-- element: string (containsNull = true)\n",
      " |-- tags: string (nullable = true)\n",
      " |-- title: string (nullable = true)\n",
      " |-- type_of: string (nullable = true)\n",
      " |-- url: string (nullable = true)\n",
      " |-- user: struct (nullable = true)\n",
      " |    |-- github_username: string (nullable = true)\n",
      " |    |-- name: string (nullable = true)\n",
      " |    |-- profile_image: string (nullable = true)\n",
      " |    |-- profile_image_90: string (nullable = true)\n",
      " |    |-- twitter_username: string (nullable = true)\n",
      " |    |-- user_id: long (nullable = true)\n",
      " |    |-- username: string (nullable = true)\n",
      " |    |-- website_url: string (nullable = true)\n",
      "\n"
     ]
    }
   ],
   "source": [
    "data.printSchema()"
   ]
  },
  {
   "cell_type": "code",
   "execution_count": null,
   "id": "871d8476-b5f0-47b5-87ae-7e8d0b092070",
   "metadata": {},
   "outputs": [],
   "source": [
    "articles_raw = data.select('type_of', 'id', 'title', 'description', 'slug', 'url', 'comments_count', \n",
    "            'public_reactions_count', 'published_timestamp', 'language', 'subforem_id', \n",
    "            'positive_reactions_count', 'created_at', 'published_at', 'reading_time_minutes', \n",
    "            'tag_list', 'user.user_id', 'user.name', 'user.username'). \\\n",
    "        withColumn(\"published_at\", col(\"published_at\").cast('timestamp')). \\\n",
    "        withColumn(\"created_at\", col(\"created_at\").cast('timestamp'))"
   ]
  },
  {
   "cell_type": "code",
   "execution_count": null,
   "id": "224982ff-b489-4114-a4c6-2a8b28eeae8c",
   "metadata": {},
   "outputs": [
    {
     "name": "stdout",
     "output_type": "stream",
     "text": [
      "+-------+-------+---------------------------+----------------------------------------------------------------------------------------------+-------------------------------+-----------------------------------------------------+--------------+----------------------+--------------------+--------+-----------+------------------------+-------------------+-------------------+--------------------+--------------------------------+-------+-------------------+--------+\n",
      "|type_of|id     |title                      |description                                                                                   |slug                           |url                                                  |comments_count|public_reactions_count|published_timestamp |language|subforem_id|positive_reactions_count|created_at         |published_at       |reading_time_minutes|tag_list                        |user_id|name               |username|\n",
      "+-------+-------+---------------------------+----------------------------------------------------------------------------------------------+-------------------------------+-----------------------------------------------------+--------------+----------------------+--------------------+--------+-----------+------------------------+-------------------+-------------------+--------------------+--------------------------------+-------+-------------------+--------+\n",
      "|article|2623367|The Second Raku Core Summit|Some background   The Raku Core Summit was the culmination of several ideas I had after the...|the-second-raku-core-summit-f99|https://dev.to/lizmat/the-second-raku-core-summit-f99|0             |7                     |2025-06-25T10:04:03Z|en      |1          |7                       |2025-06-25 09:46:47|2025-06-25 10:04:03|5                   |[rakulang, programming, meeting]|175135 |Elizabeth Mattijsen|lizmat  |\n",
      "+-------+-------+---------------------------+----------------------------------------------------------------------------------------------+-------------------------------+-----------------------------------------------------+--------------+----------------------+--------------------+--------+-----------+------------------------+-------------------+-------------------+--------------------+--------------------------------+-------+-------------------+--------+\n",
      "only showing top 1 row\n",
      "\n"
     ]
    }
   ],
   "source": [
    "articles_raw.show(1, False)"
   ]
  },
  {
   "cell_type": "code",
   "execution_count": null,
   "id": "472d5157-4254-4649-a8a3-4efd5059f9fb",
   "metadata": {},
   "outputs": [],
   "source": [
    "articles = data.select('type_of', 'id', 'title', 'slug', 'url', 'comments_count', \n",
    "            'public_reactions_count', 'published_timestamp', \n",
    "            'positive_reactions_count', 'created_at', 'published_at', 'reading_time_minutes', \n",
    "            'tag_list', 'user.user_id'). \\\n",
    "        withColumn(\"published_at\", col(\"published_at\").cast('timestamp')). \\\n",
    "        withColumn(\"created_at\", col(\"created_at\").cast('timestamp'))"
   ]
  },
  {
   "cell_type": "code",
   "execution_count": null,
   "id": "85fa5a26-b9f1-4631-934e-31a61660aba3",
   "metadata": {},
   "outputs": [
    {
     "name": "stdout",
     "output_type": "stream",
     "text": [
      "+-------+-------+--------------------+--------------------+--------------------+--------------+----------------------+--------------------+------------------------+-------------------+-------------------+--------------------+--------------------+-------+\n",
      "|type_of|     id|               title|                slug|                 url|comments_count|public_reactions_count| published_timestamp|positive_reactions_count|         created_at|       published_at|reading_time_minutes|            tag_list|user_id|\n",
      "+-------+-------+--------------------+--------------------+--------------------+--------------+----------------------+--------------------+------------------------+-------------------+-------------------+--------------------+--------------------+-------+\n",
      "|article|2623367|The Second Raku C...|the-second-raku-c...|https://dev.to/li...|             0|                     7|2025-06-25T10:04:03Z|                       7|2025-06-25 09:46:47|2025-06-25 10:04:03|                   5|[rakulang, progra...| 175135|\n",
      "|article|2623435|Where is the Vibe...|where-is-the-vibe...|https://dev.to/in...|             4|                    25|2025-06-25T10:36:34Z|                      25|2025-06-25 10:19:00|2025-06-25 10:36:34|                   8|[watercooler, ai,...| 233697|\n",
      "|article|2621417|Comparing 5 AI Co...|comparing-5-ai-co...|https://dev.to/be...|             0|                     5|2025-06-24T15:35:13Z|                       5|2025-06-24 15:35:13|2025-06-24 15:35:13|                   3|                [ai]| 345658|\n",
      "+-------+-------+--------------------+--------------------+--------------------+--------------+----------------------+--------------------+------------------------+-------------------+-------------------+--------------------+--------------------+-------+\n",
      "only showing top 3 rows\n",
      "\n"
     ]
    }
   ],
   "source": [
    "articles.show(3)"
   ]
  },
  {
   "cell_type": "code",
   "execution_count": null,
   "id": "07b11bc6-0296-4ea5-a3f7-1dcf94f42237",
   "metadata": {},
   "outputs": [
    {
     "data": {
      "text/plain": [
       "2000"
      ]
     },
     "execution_count": 27,
     "metadata": {},
     "output_type": "execute_result"
    }
   ],
   "source": [
    "#проверка на дубликаты articles\n",
    "articles.distinct().count()"
   ]
  },
  {
   "cell_type": "code",
   "execution_count": null,
   "id": "7949c94a-5578-4da4-821d-2fd8393faca5",
   "metadata": {},
   "outputs": [],
   "source": [
    "#удаление дубликатов\n",
    "articles = articles.dropDuplicates()"
   ]
  },
  {
   "cell_type": "code",
   "execution_count": null,
   "id": "2b10a9d9-d667-40b9-bab5-04bfce7a9fb1",
   "metadata": {},
   "outputs": [],
   "source": [
    "users = data.select('user.user_id', 'user.name', 'user.username', 'user.website_url')"
   ]
  },
  {
   "cell_type": "code",
   "execution_count": null,
   "id": "ca07f55e-765d-436f-9801-fc86dceb380d",
   "metadata": {},
   "outputs": [
    {
     "name": "stdout",
     "output_type": "stream",
     "text": [
      "+-------+--------------------+--------------------+--------------------+\n",
      "|user_id|                name|            username|         website_url|\n",
      "+-------+--------------------+--------------------+--------------------+\n",
      "| 175135| Elizabeth Mattijsen|              lizmat|https://mastodon....|\n",
      "| 233697|Ingo Steinke, web...|         ingosteinke|https://www.ingo-...|\n",
      "| 345658|             BekahHW|             bekahhw|https://bekahhw.com/|\n",
      "| 950976|      Anmol Baranwal|       anmolbaranwal|https://anmolbara...|\n",
      "|      3|        dev.to staff|     thepracticaldev|      https://dev.to|\n",
      "|2971337|       James Bachini|        jamesbachini|https://jamesbach...|\n",
      "|  55651|     Giorgi Kobaidze|      georgekobaidze|                NULL|\n",
      "|3284032|   Raghavendra Reddy|raghavendra_reddy...|                NULL|\n",
      "|  35023|           YCM Jason|            ycmjason|http://www.ycmjas...|\n",
      "|   9688|       Aurélie Vache|        aurelievache|   http://scraly.com|\n",
      "| 345658|             BekahHW|             bekahhw|https://bekahhw.com/|\n",
      "|  17255|         Igor Santos|        igorsantos07|http://igorsantos...|\n",
      "|  35233|      Burdette Lamar|       burdettelamar|                NULL|\n",
      "|      3|        dev.to staff|     thepracticaldev|      https://dev.to|\n",
      "|2915485|        Riyana Patel|         riyanapatel|https://www.linke...|\n",
      "| 879086|    Leonardo Montini|          balastrong|https://www.youtu...|\n",
      "|   8745|        Chris Jarvis|        jarvisscript|http://christophe...|\n",
      "|      3|        dev.to staff|     thepracticaldev|      https://dev.to|\n",
      "| 248483|        Maxim Saplin|         maximsaplin|https://www.linke...|\n",
      "|   1075|     Peter Kim Frank|               peter|http://peterkimfr...|\n",
      "+-------+--------------------+--------------------+--------------------+\n",
      "only showing top 20 rows\n",
      "\n"
     ]
    }
   ],
   "source": [
    "users.show()"
   ]
  },
  {
   "cell_type": "code",
   "execution_count": null,
   "id": "8a91e9ab-cd63-4963-b1d5-9b47b1181d8e",
   "metadata": {},
   "outputs": [
    {
     "data": {
      "text/plain": [
       "False"
      ]
     },
     "execution_count": 31,
     "metadata": {},
     "output_type": "execute_result"
    }
   ],
   "source": [
    "#проверка на дубликаты\n",
    "users.distinct().count() == users.count()"
   ]
  },
  {
   "cell_type": "code",
   "execution_count": null,
   "id": "113a5a7b-1c07-49dc-9438-447e3498dad4",
   "metadata": {},
   "outputs": [],
   "source": [
    "users = users.dropDuplicates()"
   ]
  },
  {
   "cell_type": "code",
   "execution_count": null,
   "id": "da313bca-0d7f-4940-b2af-7c12ac055541",
   "metadata": {},
   "outputs": [
    {
     "data": {
      "text/plain": [
       "851"
      ]
     },
     "execution_count": 33,
     "metadata": {},
     "output_type": "execute_result"
    }
   ],
   "source": [
    "users.count()"
   ]
  },
  {
   "cell_type": "code",
   "execution_count": null,
   "id": "1292a818-b89f-41a8-98bf-ef8dab90afb4",
   "metadata": {},
   "outputs": [],
   "source": [
    "data_videos = spark.read.json(\"hdfs://namenode:9000/videos.json\")"
   ]
  },
  {
   "cell_type": "code",
   "execution_count": null,
   "id": "8b3a28dd-7102-43c9-b704-3cc05c63ecc3",
   "metadata": {},
   "outputs": [
    {
     "name": "stdout",
     "output_type": "stream",
     "text": [
      "root\n",
      " |-- cloudinary_video_url: string (nullable = true)\n",
      " |-- id: long (nullable = true)\n",
      " |-- path: string (nullable = true)\n",
      " |-- title: string (nullable = true)\n",
      " |-- type_of: string (nullable = true)\n",
      " |-- user: struct (nullable = true)\n",
      " |    |-- name: string (nullable = true)\n",
      " |-- user_id: long (nullable = true)\n",
      " |-- video_duration_in_minutes: string (nullable = true)\n",
      " |-- video_source_url: string (nullable = true)\n",
      "\n"
     ]
    }
   ],
   "source": [
    "data_videos.printSchema()"
   ]
  },
  {
   "cell_type": "code",
   "execution_count": null,
   "id": "551fc117-003b-4fd6-b945-caad5f9661f7",
   "metadata": {},
   "outputs": [
    {
     "name": "stdout",
     "output_type": "stream",
     "text": [
      "+--------------------+-------+--------------------+--------------------+-------------+-------------------+-------+-------------------------+--------------------+\n",
      "|cloudinary_video_url|     id|                path|               title|      type_of|               user|user_id|video_duration_in_minutes|    video_source_url|\n",
      "+--------------------+-------+--------------------+--------------------+-------------+-------------------+-------+-------------------------+--------------------+\n",
      "|https://media2.de...|2594229|/kingsmen732/ambi...|Ambient lighting ...|video_article|      {B Mithilesh}|1631667|                    01:19|https://dw71fyauz...|\n",
      "|https://media2.de...|2597387|/kingsmen732/bypa...|Bypass Netflix’s ...|video_article|      {B Mithilesh}|1631667|                    00:38|https://dw71fyauz...|\n",
      "|https://media2.de...|2562728|/insightworks/bus...|Business Central ...|video_article|    {Insight Works}|3081293|                    10:39|https://dw71fyauz...|\n",
      "|https://media2.de...|2588924|/ai_agi/hello-wor...|\"Hello, world\" 🖥...|video_article|           {AI AGI}|3185505|                    02:13|https://dw71fyauz...|\n",
      "|https://media2.de...|2588138|/pullflow/project...|Project of the We...|video_article|     {Riyana Patel}|2915485|                    02:00|https://dw71fyauz...|\n",
      "|https://media2.de...|2579437|/mohitdecodes/are...|Are you preparing...|video_article|    {Mohit Decodes}|3202928|                    00:54|https://dw71fyauz...|\n",
      "|https://media2.de...|2469043|/insightworks/how...|How to use tools ...|video_article|    {Insight Works}|3081293|                    08:34|https://dw71fyauz...|\n",
      "|https://media2.de...|2457519|/itihon/handling-...|Handling asynchro...|video_article|           {itihon}|2994365|                    14:20|https://dw71fyauz...|\n",
      "|https://media2.de...|2450635|/mmafrar/big-data...|Big Data Processi...|video_article|  {Afrar Malakooth}| 697273|                    02:36|https://dw71fyauz...|\n",
      "|https://media2.de...|2542388|/pullflow/project...|Project of the We...|video_article|     {Riyana Patel}|2915485|                    03:04|https://dw71fyauz...|\n",
      "|https://media2.de...|2437516|/mmafrar/big-data...|Big Data Processi...|video_article|  {Afrar Malakooth}| 697273|                    03:02|https://dw71fyauz...|\n",
      "|https://media2.de...|2546464|/ankit_rattan/dep...|      Deploy on Jira|video_article|     {Ankit Rattan}|1961546|                    10:28|https://dw71fyauz...|\n",
      "|https://media2.de...|2531690|/teamcamp/streaml...|Streamline Your W...|video_article|     {Pratham naik}|2667579|                    00:24|https://dw71fyauz...|\n",
      "|https://media2.de...|2430254|/mmafrar/big-data...|Big Data Processi...|video_article|  {Afrar Malakooth}| 697273|                    01:42|https://dw71fyauz...|\n",
      "|https://media2.de...|2429944|/mmafrar/big-data...|Big Data Processi...|video_article|  {Afrar Malakooth}| 697273|                    04:26|https://dw71fyauz...|\n",
      "|https://media2.de...|2428453|/mmafrar/big-data...|Big Data Processi...|video_article|  {Afrar Malakooth}| 697273|                    01:52|https://dw71fyauz...|\n",
      "|https://media2.de...|2532073|/optimajet/a-true...|A True React Hook...|video_article|{Optimajet Limited}|1475516|                    04:52|https://dw71fyauz...|\n",
      "|https://media2.de...|2533001|/d2d_weizhi/3-rea...|3 Reasons Why I S...|video_article|              {D2D}|2649629|                    00:07|https://dw71fyauz...|\n",
      "|https://media2.de...|2427070|/mmafrar/big-data...|Big Data Processi...|video_article|  {Afrar Malakooth}| 697273|                    02:01|https://dw71fyauz...|\n",
      "|https://media2.de...|2426964|/mmafrar/big-data...|Big Data Processi...|video_article|  {Afrar Malakooth}| 697273|                    01:32|https://dw71fyauz...|\n",
      "+--------------------+-------+--------------------+--------------------+-------------+-------------------+-------+-------------------------+--------------------+\n",
      "only showing top 20 rows\n",
      "\n"
     ]
    }
   ],
   "source": [
    "data_videos.show()"
   ]
  },
  {
   "cell_type": "code",
   "execution_count": null,
   "id": "f45de19d-b9d3-4a13-8565-3c352d0ebd55",
   "metadata": {},
   "outputs": [],
   "source": [
    "videos = data_videos.select('id', 'title', 'type_of', 'user.name', 'user_id', 'video_duration_in_minutes', 'video_source_url')"
   ]
  },
  {
   "cell_type": "code",
   "execution_count": null,
   "id": "3c02de23-dc1e-465b-95d8-6e458d5cccf5",
   "metadata": {},
   "outputs": [
    {
     "name": "stdout",
     "output_type": "stream",
     "text": [
      "+-------+--------------------+-------------+-----------------+-------+-------------------------+--------------------+\n",
      "|     id|               title|      type_of|             name|user_id|video_duration_in_minutes|    video_source_url|\n",
      "+-------+--------------------+-------------+-----------------+-------+-------------------------+--------------------+\n",
      "|2594229|Ambient lighting ...|video_article|      B Mithilesh|1631667|                    01:19|https://dw71fyauz...|\n",
      "|2597387|Bypass Netflix’s ...|video_article|      B Mithilesh|1631667|                    00:38|https://dw71fyauz...|\n",
      "|2562728|Business Central ...|video_article|    Insight Works|3081293|                    10:39|https://dw71fyauz...|\n",
      "|2588924|\"Hello, world\" 🖥...|video_article|           AI AGI|3185505|                    02:13|https://dw71fyauz...|\n",
      "|2588138|Project of the We...|video_article|     Riyana Patel|2915485|                    02:00|https://dw71fyauz...|\n",
      "|2579437|Are you preparing...|video_article|    Mohit Decodes|3202928|                    00:54|https://dw71fyauz...|\n",
      "|2469043|How to use tools ...|video_article|    Insight Works|3081293|                    08:34|https://dw71fyauz...|\n",
      "|2457519|Handling asynchro...|video_article|           itihon|2994365|                    14:20|https://dw71fyauz...|\n",
      "|2450635|Big Data Processi...|video_article|  Afrar Malakooth| 697273|                    02:36|https://dw71fyauz...|\n",
      "|2542388|Project of the We...|video_article|     Riyana Patel|2915485|                    03:04|https://dw71fyauz...|\n",
      "|2437516|Big Data Processi...|video_article|  Afrar Malakooth| 697273|                    03:02|https://dw71fyauz...|\n",
      "|2546464|      Deploy on Jira|video_article|     Ankit Rattan|1961546|                    10:28|https://dw71fyauz...|\n",
      "|2531690|Streamline Your W...|video_article|     Pratham naik|2667579|                    00:24|https://dw71fyauz...|\n",
      "|2430254|Big Data Processi...|video_article|  Afrar Malakooth| 697273|                    01:42|https://dw71fyauz...|\n",
      "|2429944|Big Data Processi...|video_article|  Afrar Malakooth| 697273|                    04:26|https://dw71fyauz...|\n",
      "|2428453|Big Data Processi...|video_article|  Afrar Malakooth| 697273|                    01:52|https://dw71fyauz...|\n",
      "|2532073|A True React Hook...|video_article|Optimajet Limited|1475516|                    04:52|https://dw71fyauz...|\n",
      "|2533001|3 Reasons Why I S...|video_article|              D2D|2649629|                    00:07|https://dw71fyauz...|\n",
      "|2427070|Big Data Processi...|video_article|  Afrar Malakooth| 697273|                    02:01|https://dw71fyauz...|\n",
      "|2426964|Big Data Processi...|video_article|  Afrar Malakooth| 697273|                    01:32|https://dw71fyauz...|\n",
      "+-------+--------------------+-------------+-----------------+-------+-------------------------+--------------------+\n",
      "only showing top 20 rows\n",
      "\n"
     ]
    }
   ],
   "source": [
    "videos.show()"
   ]
  },
  {
   "cell_type": "code",
   "execution_count": null,
   "id": "4b23267a-801b-4e1b-a678-a89a7367c2e1",
   "metadata": {},
   "outputs": [
    {
     "data": {
      "text/plain": [
       "1711"
      ]
     },
     "execution_count": 42,
     "metadata": {},
     "output_type": "execute_result"
    }
   ],
   "source": [
    "#проверка на дубликаты\n",
    "videos.count()"
   ]
  },
  {
   "cell_type": "code",
   "execution_count": null,
   "id": "dd1c9e09-3e97-4035-9292-d6cf25182a62",
   "metadata": {},
   "outputs": [
    {
     "data": {
      "text/plain": [
       "1711"
      ]
     },
     "execution_count": 43,
     "metadata": {},
     "output_type": "execute_result"
    }
   ],
   "source": [
    "videos.distinct().count()"
   ]
  },
  {
   "cell_type": "code",
   "execution_count": null,
   "id": "f5cf734c-b17d-4fe9-8abe-798e15e2de44",
   "metadata": {},
   "outputs": [],
   "source": [
    "#Записываем в БД\n"
   ]
  },
  {
   "cell_type": "code",
   "execution_count": null,
   "id": "f6963e32-058e-40f0-9aab-17f654310708",
   "metadata": {},
   "outputs": [],
   "source": [
    "jdbc_url = \"jdbc:postgresql://host.docker.internal:5432/nataly\"\n",
    "connection_properties = {\n",
    "    \"user\": \"postgres\",\n",
    "    \"password\": \"postgres\",\n",
    "    \"driver\": \"org.postgresql.Driver\"\n",
    "}"
   ]
  },
  {
   "cell_type": "code",
   "execution_count": null,
   "id": "777810fa-17d7-4123-b6fb-6628c160ea3b",
   "metadata": {},
   "outputs": [],
   "source": [
    "articles_raw.write.jdbc(\n",
    "    url=jdbc_url,\n",
    "    table=\"pp_articles.articles_raw\",\n",
    "    mode=\"overwrite\", # или \"append\", \"ignore\", \"error\"\n",
    "    properties=connection_properties\n",
    ")"
   ]
  },
  {
   "cell_type": "code",
   "execution_count": null,
   "id": "f68aca68-c229-444e-876a-94d1c9415520",
   "metadata": {},
   "outputs": [],
   "source": [
    "articles.write.jdbc(\n",
    "    url=jdbc_url,\n",
    "    table=\"pp_articles.articles\",\n",
    "    mode=\"overwrite\", # или \"append\", \"ignore\", \"error\"\n",
    "    properties=connection_properties\n",
    ")"
   ]
  },
  {
   "cell_type": "code",
   "execution_count": null,
   "id": "55a37859-fdbd-4e34-a41e-9b18125dbd4d",
   "metadata": {},
   "outputs": [],
   "source": [
    "users.write.jdbc(\n",
    "    url=jdbc_url,\n",
    "    table=\"pp_articles.users\",\n",
    "    mode=\"overwrite\", # или \"append\", \"ignore\", \"error\"\n",
    "    properties=connection_properties\n",
    ")"
   ]
  },
  {
   "cell_type": "code",
   "execution_count": null,
   "id": "a1bc0f4f-0dc2-4d76-9e36-7419e21da17b",
   "metadata": {},
   "outputs": [],
   "source": [
    "videos.write.jdbc(\n",
    "    url=jdbc_url,\n",
    "    table=\"pp_articles.videos\",\n",
    "    mode=\"overwrite\", # или \"append\", \"ignore\", \"error\"\n",
    "    properties=connection_properties\n",
    ")"
   ]
  },
  {
   "cell_type": "code",
   "execution_count": null,
   "id": "e560648c-e78f-42d1-abc2-86a40e79e205",
   "metadata": {},
   "outputs": [],
   "source": [
    "#замена нулевых значений на ноль в колонке title\n",
    "#users_with_videos = users_with_videos.withColumn('title', coalesce('title', lit(0)))"
   ]
  },
  {
   "cell_type": "code",
   "execution_count": null,
   "id": "715aa900-84fd-4ace-b3b7-bf0d0d424075",
   "metadata": {},
   "outputs": [],
   "source": [
    "#новый датафрейм с кол-вом видео по пользователям\n",
    "users_with_videos = videos.groupBy('user_id').agg(count(\"title\").alias(\"video_cnt\"))"
   ]
  },
  {
   "cell_type": "code",
   "execution_count": null,
   "id": "05665b9a-96df-4482-a8e3-f3cfffb20372",
   "metadata": {},
   "outputs": [
    {
     "name": "stdout",
     "output_type": "stream",
     "text": [
      "+-------+---------+\n",
      "|user_id|video_cnt|\n",
      "+-------+---------+\n",
      "| 776627|        1|\n",
      "|1182761|        1|\n",
      "| 178146|        1|\n",
      "|1410108|        1|\n",
      "| 118274|        1|\n",
      "+-------+---------+\n",
      "only showing top 5 rows\n",
      "\n"
     ]
    }
   ],
   "source": [
    "users_with_videos.show(5)"
   ]
  },
  {
   "cell_type": "code",
   "execution_count": null,
   "id": "31516b61-2fad-4534-8585-4b913dfb9656",
   "metadata": {},
   "outputs": [],
   "source": [
    "#новый датафрейм с кол-вом статей по пользователям \n",
    "articles_by_users = articles.groupBy('user_id').agg(count(\"id\").alias(\"articles_cnt\"))"
   ]
  },
  {
   "cell_type": "code",
   "execution_count": null,
   "id": "6c7e038e-3945-4a54-a221-c15becfb14ec",
   "metadata": {},
   "outputs": [
    {
     "name": "stdout",
     "output_type": "stream",
     "text": [
      "+-------+------------+\n",
      "|user_id|articles_cnt|\n",
      "+-------+------------+\n",
      "| 127422|           3|\n",
      "|  69086|           1|\n",
      "|1406708|           1|\n",
      "| 385896|           1|\n",
      "|   6401|           5|\n",
      "+-------+------------+\n",
      "only showing top 5 rows\n",
      "\n"
     ]
    }
   ],
   "source": [
    "articles_by_users.show(5)"
   ]
  },
  {
   "cell_type": "code",
   "execution_count": null,
   "id": "b52baeac-f0c3-410f-8714-8ceb3a06305a",
   "metadata": {},
   "outputs": [],
   "source": [
    "#джойним два этих датафрейма\n",
    "top_users = articles_by_users.join(users_with_videos, on='user_id', how='left')"
   ]
  },
  {
   "cell_type": "code",
   "execution_count": null,
   "id": "e89a011b-9cdf-44fc-8bad-b1861d983ae4",
   "metadata": {},
   "outputs": [
    {
     "name": "stdout",
     "output_type": "stream",
     "text": [
      "+-------+------------+---------+\n",
      "|user_id|articles_cnt|video_cnt|\n",
      "+-------+------------+---------+\n",
      "| 127422|           3|     NULL|\n",
      "|  69086|           1|     NULL|\n",
      "|1406708|           1|     NULL|\n",
      "| 385896|           1|     NULL|\n",
      "|   6401|           5|     NULL|\n",
      "+-------+------------+---------+\n",
      "only showing top 5 rows\n",
      "\n"
     ]
    }
   ],
   "source": [
    "top_users.show(5)"
   ]
  },
  {
   "cell_type": "code",
   "execution_count": null,
   "id": "72cbbdd9-07eb-4b2c-9668-bdf42339d285",
   "metadata": {},
   "outputs": [
    {
     "data": {
      "text/plain": [
       "851"
      ]
     },
     "execution_count": 30,
     "metadata": {},
     "output_type": "execute_result"
    }
   ],
   "source": [
    "top_users.count()"
   ]
  },
  {
   "cell_type": "code",
   "execution_count": null,
   "id": "1e62679f-879e-4728-b314-dfde59aa21fc",
   "metadata": {},
   "outputs": [
    {
     "data": {
      "text/plain": [
       "42"
      ]
     },
     "execution_count": 31,
     "metadata": {},
     "output_type": "execute_result"
    }
   ],
   "source": [
    "#пользователи с видео\n",
    "top_users.filter(col('video_cnt').isNotNull()).count()"
   ]
  },
  {
   "cell_type": "code",
   "execution_count": null,
   "id": "aa283224-0e3f-4805-8a87-24cc3acc43da",
   "metadata": {},
   "outputs": [
    {
     "name": "stdout",
     "output_type": "stream",
     "text": [
      "+-------+------------+---------+\n",
      "|user_id|articles_cnt|video_cnt|\n",
      "+-------+------------+---------+\n",
      "| 364684|           2|        1|\n",
      "|1106033|           1|        2|\n",
      "| 192035|           1|        1|\n",
      "|  11207|           2|        1|\n",
      "|    264|          79|        2|\n",
      "|1262818|           2|        1|\n",
      "|1438636|           1|        1|\n",
      "| 555587|           1|       18|\n",
      "|1031984|           3|        5|\n",
      "|1054351|           4|        1|\n",
      "|  40335|           1|        3|\n",
      "| 345658|          37|        5|\n",
      "|  28276|           1|        1|\n",
      "|      1|         104|        1|\n",
      "|  19970|           3|       31|\n",
      "| 492757|           9|        1|\n",
      "|2966215|           1|        2|\n",
      "| 108648|           1|        2|\n",
      "|  91775|           1|        1|\n",
      "| 868253|           1|        1|\n",
      "+-------+------------+---------+\n",
      "only showing top 20 rows\n",
      "\n"
     ]
    }
   ],
   "source": [
    "top_users.filter(col('video_cnt').isNotNull()).show()"
   ]
  },
  {
   "cell_type": "code",
   "execution_count": null,
   "id": "3e153b56-9e5c-49f0-bd7e-7479225b10f5",
   "metadata": {},
   "outputs": [],
   "source": [
    "#замена нулевых значений на ноль в колонке video_cnt\n",
    "top_users = top_users.withColumn('video_cnt', coalesce('video_cnt', lit(0)))"
   ]
  },
  {
   "cell_type": "code",
   "execution_count": null,
   "id": "94c8d542-82db-4bb2-a115-54344d9e75d3",
   "metadata": {},
   "outputs": [],
   "source": [
    "top_users = top_users.join(users, on='user_id', how='left').select('user_id', 'username', 'articles_cnt', 'video_cnt')"
   ]
  },
  {
   "cell_type": "code",
   "execution_count": null,
   "id": "82a1acad-d4c1-48c0-9652-7ceab30097d6",
   "metadata": {},
   "outputs": [
    {
     "name": "stdout",
     "output_type": "stream",
     "text": [
      "+-------+------------------+------------+---------+\n",
      "|user_id|          username|articles_cnt|video_cnt|\n",
      "+-------+------------------+------------+---------+\n",
      "|      3|   thepracticaldev|         238|        7|\n",
      "|      1|               ben|         104|        1|\n",
      "|    264|              jess|          79|        2|\n",
      "|  38578|michaeltharrington|          53|        0|\n",
      "|  31047|             sloan|          52|        0|\n",
      "| 345658|           bekahhw|          37|        5|\n",
      "| 968077|       rachelfazio|          25|        0|\n",
      "|1195604|        anitaolsen|          20|        0|\n",
      "|   9597|      nickytonline|          15|        9|\n",
      "|   8745|      jarvisscript|          12|        0|\n",
      "| 201004|   eevajonnapanula|          11|        0|\n",
      "|1007771|            erinao|          11|        0|\n",
      "| 825443|           fmerian|          10|        0|\n",
      "|  21408|       link2twenty|          10|        0|\n",
      "|  18254|         thomasbnt|          10|        0|\n",
      "| 233697|       ingosteinke|          10|        0|\n",
      "| 397557|       mishmanners|          10|       32|\n",
      "|1192466|        best_codes|           9|        0|\n",
      "| 492757|      whitep4nth3r|           9|        1|\n",
      "| 161327|     alvaromontoro|           8|        0|\n",
      "+-------+------------------+------------+---------+\n",
      "only showing top 20 rows\n",
      "\n"
     ]
    }
   ],
   "source": [
    "#лидеры по кол-ву статей\n",
    "top_users_by_articles = top_users.sort(desc(\"articles_cnt\"))\n",
    "top_users_by_articles.show()"
   ]
  },
  {
   "cell_type": "code",
   "execution_count": null,
   "id": "0d0ef294-db81-4a3f-8a2f-c50c8a29c6f8",
   "metadata": {},
   "outputs": [],
   "source": [
    "#записываем в БД\n",
    "top_users_by_articles.write.jdbc(\n",
    "    url=jdbc_url,\n",
    "    table=\"pp_articles.top_users_by_articles\",\n",
    "    mode=\"overwrite\", # или \"append\", \"ignore\", \"error\"\n",
    "    properties=connection_properties\n",
    ")\n"
   ]
  },
  {
   "cell_type": "code",
   "execution_count": null,
   "id": "827924dc-2ef1-4ce5-b058-1616ee15d179",
   "metadata": {},
   "outputs": [
    {
     "name": "stdout",
     "output_type": "stream",
     "text": [
      "+-------+-----------------+------------+---------+\n",
      "|user_id|         username|articles_cnt|video_cnt|\n",
      "+-------+-----------------+------------+---------+\n",
      "|1255335|jguerrero-voxel51|           2|       57|\n",
      "| 397557|      mishmanners|          10|       32|\n",
      "|  19970|        bdougieyo|           3|       31|\n",
      "| 407879|           whykay|           2|       29|\n",
      "| 555587|          kgilpin|           1|       18|\n",
      "|   9597|     nickytonline|          15|        9|\n",
      "|1014611|         proflead|           2|        7|\n",
      "|      3|  thepracticaldev|         238|        7|\n",
      "|2915485|      riyanapatel|           1|        6|\n",
      "|  86540|       cheetah100|           1|        6|\n",
      "|1031984|   nathan_tarbert|           3|        5|\n",
      "| 345658|          bekahhw|          37|        5|\n",
      "|2649629|       d2d_weizhi|           1|        5|\n",
      "|  48220|    jeremycmorgan|           4|        5|\n",
      "| 628027|      ssukhpinder|           2|        4|\n",
      "|  40335|          coreyja|           1|        3|\n",
      "|1106033|  elanatframework|           1|        2|\n",
      "|    264|             jess|          79|        2|\n",
      "|2966215|   bhuvaneshm_dev|           1|        2|\n",
      "| 108648|      briancaffey|           1|        2|\n",
      "+-------+-----------------+------------+---------+\n",
      "only showing top 20 rows\n",
      "\n"
     ]
    }
   ],
   "source": [
    "#лидеры по кол-ву видео\n",
    "top_users_by_videos = top_users.sort(desc(\"video_cnt\"))\n",
    "top_users_by_videos.show()"
   ]
  },
  {
   "cell_type": "code",
   "execution_count": null,
   "id": "6473fd61-2a62-4a58-8df3-643c0ee5542b",
   "metadata": {},
   "outputs": [],
   "source": [
    "#записываем в БД\n",
    "top_users_by_videos.write.jdbc(\n",
    "    url=jdbc_url,\n",
    "    table=\"pp_articles.top_users_by_videos\",\n",
    "    mode=\"overwrite\", # или \"append\", \"ignore\", \"error\"\n",
    "    properties=connection_properties\n",
    ")"
   ]
  },
  {
   "cell_type": "code",
   "execution_count": null,
   "id": "fcf784e4-f200-4593-9b0a-23bef99304ac",
   "metadata": {},
   "outputs": [
    {
     "data": {
      "text/plain": [
       "851"
      ]
     },
     "execution_count": 39,
     "metadata": {},
     "output_type": "execute_result"
    }
   ],
   "source": [
    "users.count()"
   ]
  },
  {
   "cell_type": "code",
   "execution_count": null,
   "id": "3b2ffafe-963e-4f56-8fce-a5c4e79032f3",
   "metadata": {},
   "outputs": [
    {
     "data": {
      "text/plain": [
       "3"
      ]
     },
     "execution_count": 40,
     "metadata": {},
     "output_type": "execute_result"
    }
   ],
   "source": [
    "#отсортируем articles по кол-ву позитивных реакций (>= 1000)\n",
    "articles.sort(desc(\"positive_reactions_count\")).filter(col('positive_reactions_count') >= 1000).count()"
   ]
  },
  {
   "cell_type": "code",
   "execution_count": null,
   "id": "78c47f7e-35a9-4670-9cba-f41fe11e8e89",
   "metadata": {},
   "outputs": [],
   "source": [
    "#отсортируем articles по кол-ву позитивных реакций (топ-1000)\n",
    "top_1000_articles = articles.sort(desc(\"positive_reactions_count\")).limit(1000)"
   ]
  },
  {
   "cell_type": "code",
   "execution_count": null,
   "id": "6a92bce1-0fa6-45d3-aa37-506c413618c5",
   "metadata": {},
   "outputs": [
    {
     "name": "stdout",
     "output_type": "stream",
     "text": [
      "+-------+-------+--------------------+--------------------+--------------------+--------------+----------------------+--------------------+------------------------+-------------------+-------------------+--------------------+--------------------+-------+\n",
      "|type_of|     id|               title|                slug|                 url|comments_count|public_reactions_count| published_timestamp|positive_reactions_count|         created_at|       published_at|reading_time_minutes|            tag_list|user_id|\n",
      "+-------+-------+--------------------+--------------------+--------------------+--------------+----------------------+--------------------+------------------------+-------------------+-------------------+--------------------+--------------------+-------+\n",
      "|article|1891624|Say no to console...|say-no-to-console...|https://dev.to/wo...|           121|                  1652|2024-06-17T18:34:53Z|                    1652|2024-06-17 18:34:54|2024-06-17 18:34:53|                   2|        [javascript]|1562696|\n",
      "|article|2052034|11 Practical Ways...|11-practical-ways...|https://dev.to/op...|           107|                  1488|2024-11-20T11:29:20Z|                    1488|2024-10-22 17:02:15|2024-11-20 11:29:20|                  11|[programming, beg...| 950976|\n",
      "|article|1760746|Using the Ollama ...|using-the-ollama-...|https://dev.to/ja...|             8|                  1018|2024-02-14T05:39:43Z|                    1018|2024-02-14 05:39:43|2024-02-14 05:39:43|                   2|[llm, machinelear...| 862981|\n",
      "+-------+-------+--------------------+--------------------+--------------------+--------------+----------------------+--------------------+------------------------+-------------------+-------------------+--------------------+--------------------+-------+\n",
      "only showing top 3 rows\n",
      "\n"
     ]
    }
   ],
   "source": [
    "top_1000_articles.show(3)"
   ]
  },
  {
   "cell_type": "code",
   "execution_count": null,
   "id": "04ffe118-1489-41a7-b2f3-b9a67452885f",
   "metadata": {},
   "outputs": [
    {
     "name": "stdout",
     "output_type": "stream",
     "text": [
      "+-------+--------------------+------------------------+-------+-----------+\n",
      "|     id|               title|positive_reactions_count|user_id|        tag|\n",
      "+-------+--------------------+------------------------+-------+-----------+\n",
      "|1891624|Say no to console...|                    1652|1562696| javascript|\n",
      "|2052034|11 Practical Ways...|                    1488| 950976|programming|\n",
      "|2052034|11 Practical Ways...|                    1488| 950976|  beginners|\n",
      "+-------+--------------------+------------------------+-------+-----------+\n",
      "only showing top 3 rows\n",
      "\n"
     ]
    }
   ],
   "source": [
    "#разворачиваем список тегов\n",
    "explode_tags = top_1000_articles.select('id', 'title', 'positive_reactions_count', 'user_id', explode('tag_list').alias('tag'))\n",
    "explode_tags.show(3)"
   ]
  },
  {
   "cell_type": "code",
   "execution_count": null,
   "id": "4f740a4c-5ce3-42cc-8564-9b1798e4fe23",
   "metadata": {},
   "outputs": [
    {
     "name": "stdout",
     "output_type": "stream",
     "text": [
      "+-----------+-------+\n",
      "|        tag|tag_cnt|\n",
      "+-----------+-------+\n",
      "| javascript|    138|\n",
      "|programming|    169|\n",
      "|  beginners|    112|\n",
      "+-----------+-------+\n",
      "only showing top 3 rows\n",
      "\n"
     ]
    }
   ],
   "source": [
    "#самые популярные теги\n",
    "top_tags = explode_tags.groupBy('tag').agg((count(\"id\")).alias('tag_cnt'))\n",
    "top_tags.show(3)\n"
   ]
  },
  {
   "cell_type": "code",
   "execution_count": null,
   "id": "1b878af7-d5d8-4e93-8f12-9cea6e4214e2",
   "metadata": {},
   "outputs": [
    {
     "name": "stdout",
     "output_type": "stream",
     "text": [
      "+------------+-------+\n",
      "|         tag|tag_cnt|\n",
      "+------------+-------+\n",
      "|      webdev|    285|\n",
      "|     discuss|    194|\n",
      "| programming|    169|\n",
      "|          ai|    166|\n",
      "|  javascript|    138|\n",
      "|devchallenge|    127|\n",
      "|   beginners|    112|\n",
      "|  opensource|     94|\n",
      "| watercooler|     94|\n",
      "|      career|     91|\n",
      "|productivity|     73|\n",
      "|       jokes|     68|\n",
      "|        top7|     55|\n",
      "|    learning|     49|\n",
      "|         css|     49|\n",
      "|    tutorial|     46|\n",
      "|     welcome|     33|\n",
      "|        news|     30|\n",
      "|     wecoded|     30|\n",
      "|       react|     28|\n",
      "+------------+-------+\n",
      "\n"
     ]
    }
   ],
   "source": [
    "top_tags_20 = top_tags.sort(desc('tag_cnt')).limit(20)\n",
    "top_tags_20.show()"
   ]
  },
  {
   "cell_type": "code",
   "execution_count": null,
   "id": "3d00523a-eb8d-4321-b439-e410a6c5fe90",
   "metadata": {},
   "outputs": [],
   "source": [
    "#записываем в БД\n",
    "top_tags_20.write.jdbc(\n",
    "    url=jdbc_url,\n",
    "    table=\"pp_articles.top_tags_20\",\n",
    "    mode=\"overwrite\", # или \"append\", \"ignore\", \"error\"\n",
    "    properties=connection_properties\n",
    ")\n"
   ]
  },
  {
   "cell_type": "code",
   "execution_count": null,
   "id": "9cada2e3-bd1c-48f9-b459-0fec428112b0",
   "metadata": {},
   "outputs": [
    {
     "data": {
      "text/plain": [
       "433"
      ]
     },
     "execution_count": 47,
     "metadata": {},
     "output_type": "execute_result"
    }
   ],
   "source": [
    "top_tags.sort(desc('tag_cnt')).count()"
   ]
  },
  {
   "cell_type": "code",
   "execution_count": null,
   "id": "0d81033b-bf5a-4bd5-a557-3dda1e405d4e",
   "metadata": {},
   "outputs": [],
   "source": [
    "#самые популярные пары тегов\n",
    "#self-join таблицы explode_tags\n",
    "explode_tags.createOrReplaceTempView(\"explode_tags\")\n",
    "popular_tags = spark.sql(\"\"\"SELECT a.tag as tag_1, b.tag as tag_2\n",
    "                       FROM explode_tags a, explode_tags b\n",
    "                       WHERE a.id = b.id and a.tag != b.tag\"\"\")"
   ]
  },
  {
   "cell_type": "code",
   "execution_count": null,
   "id": "87fb73bc-090b-4cc3-8b16-ec42d775691c",
   "metadata": {},
   "outputs": [
    {
     "name": "stdout",
     "output_type": "stream",
     "text": [
      "+---------------+---------------+\n",
      "|          tag_1|          tag_2|\n",
      "+---------------+---------------+\n",
      "|    programming|   productivity|\n",
      "|    programming|     opensource|\n",
      "|    programming|      beginners|\n",
      "|      beginners|   productivity|\n",
      "|      beginners|     opensource|\n",
      "|      beginners|    programming|\n",
      "|     opensource|   productivity|\n",
      "|     opensource|      beginners|\n",
      "|     opensource|    programming|\n",
      "|   productivity|     opensource|\n",
      "|   productivity|      beginners|\n",
      "|   productivity|    programming|\n",
      "|            llm|     opensource|\n",
      "|            llm|         python|\n",
      "|            llm|machinelearning|\n",
      "|machinelearning|     opensource|\n",
      "|machinelearning|         python|\n",
      "|machinelearning|            llm|\n",
      "|         python|     opensource|\n",
      "|         python|machinelearning|\n",
      "+---------------+---------------+\n",
      "only showing top 20 rows\n",
      "\n"
     ]
    }
   ],
   "source": [
    "popular_tags.show()"
   ]
  },
  {
   "cell_type": "code",
   "execution_count": null,
   "id": "bb2a42e8-f8d7-46da-beea-f62d185b5c68",
   "metadata": {},
   "outputs": [],
   "source": [
    "popular_tags = popular_tags.groupBy('tag_1', 'tag_2').count().sort(desc('count'))"
   ]
  },
  {
   "cell_type": "code",
   "execution_count": null,
   "id": "4655e4ec-2160-4f9e-abf6-5294c1d2832d",
   "metadata": {},
   "outputs": [
    {
     "name": "stdout",
     "output_type": "stream",
     "text": [
      "+------------+------------+-----+\n",
      "|       tag_1|       tag_2|count|\n",
      "+------------+------------+-----+\n",
      "|      webdev|  javascript|  100|\n",
      "|  javascript|      webdev|  100|\n",
      "|      webdev| programming|   84|\n",
      "| programming|      webdev|   84|\n",
      "| watercooler|     discuss|   80|\n",
      "|     discuss| watercooler|   80|\n",
      "| watercooler|       jokes|   66|\n",
      "|       jokes| watercooler|   66|\n",
      "|       jokes|     discuss|   65|\n",
      "|     discuss|       jokes|   65|\n",
      "|      webdev|   beginners|   45|\n",
      "|   beginners|      webdev|   45|\n",
      "|      webdev|devchallenge|   44|\n",
      "|devchallenge|      webdev|   44|\n",
      "| programming|  javascript|   41|\n",
      "|  javascript| programming|   41|\n",
      "|          ai|      webdev|   37|\n",
      "|      webdev|          ai|   37|\n",
      "| programming|   beginners|   37|\n",
      "|   beginners| programming|   37|\n",
      "+------------+------------+-----+\n",
      "only showing top 20 rows\n",
      "\n"
     ]
    }
   ],
   "source": [
    "popular_tags.show()"
   ]
  },
  {
   "cell_type": "code",
   "execution_count": null,
   "id": "2d55af69-d50a-4a6e-bbaf-4bd8ac217864",
   "metadata": {},
   "outputs": [],
   "source": [
    "popular_tags = popular_tags.drop_duplicates(['count']).sort(desc('count'))"
   ]
  },
  {
   "cell_type": "code",
   "execution_count": null,
   "id": "349f36ae-d6ff-4c7a-9500-852b68f882ae",
   "metadata": {},
   "outputs": [],
   "source": [
    "popular_tags = popular_tags.withColumn('tags_pair', concat_ws(' - ', col('tag_1'), col('tag_2')))"
   ]
  },
  {
   "cell_type": "code",
   "execution_count": null,
   "id": "1be79b07-9860-40b1-a5e5-07b13fb505c6",
   "metadata": {},
   "outputs": [
    {
     "name": "stdout",
     "output_type": "stream",
     "text": [
      "+--------------------+-----+\n",
      "|           tags_pair|count|\n",
      "+--------------------+-----+\n",
      "| webdev - javascript|  100|\n",
      "|webdev - programming|   84|\n",
      "|watercooler - dis...|   80|\n",
      "| watercooler - jokes|   66|\n",
      "|     discuss - jokes|   65|\n",
      "|  webdev - beginners|   45|\n",
      "|devchallenge - we...|   44|\n",
      "|programming - jav...|   41|\n",
      "|programming - beg...|   37|\n",
      "|   devchallenge - ai|   36|\n",
      "|    ai - programming|   33|\n",
      "| webdev - opensource|   27|\n",
      "|devchallenge - fr...|   26|\n",
      "|devchallenge - ja...|   25|\n",
      "|programming - pro...|   24|\n",
      "|      react - webdev|   23|\n",
      "|     career - webdev|   22|\n",
      "|    javascript - css|   21|\n",
      "|   webdev - tutorial|   20|\n",
      "|  javascript - react|   18|\n",
      "+--------------------+-----+\n",
      "only showing top 20 rows\n",
      "\n"
     ]
    }
   ],
   "source": [
    "popular_tags_pair = popular_tags.select('tags_pair', 'count').limit(40)\n",
    "popular_tags_pair.show()"
   ]
  },
  {
   "cell_type": "code",
   "execution_count": null,
   "id": "d80653cc-7590-4354-a7b8-b22aa68c000e",
   "metadata": {},
   "outputs": [],
   "source": [
    "#записываем в БД\n",
    "popular_tags_pair.write.jdbc(\n",
    "    url=jdbc_url,\n",
    "    table=\"pp_articles.popular_tags_pair\",\n",
    "    mode=\"overwrite\", # или \"append\", \"ignore\", \"error\"\n",
    "    properties=connection_properties\n",
    ")\n"
   ]
  },
  {
   "cell_type": "code",
   "execution_count": null,
   "id": "036fdfb7-820c-4479-a022-53fe1b868403",
   "metadata": {},
   "outputs": [
    {
     "name": "stdout",
     "output_type": "stream",
     "text": [
      "+-------+--------------------+--------------+----------------------+--------------------+--------------------+\n",
      "|user_id|               title|comments_count|public_reactions_count|reading_time_minutes|            tag_list|\n",
      "+-------+--------------------+--------------+----------------------+--------------------+--------------------+\n",
      "|1562696|Say no to console...|           121|                  1652|                   2|        [javascript]|\n",
      "| 950976|11 Practical Ways...|           107|                  1488|                  11|[programming, beg...|\n",
      "| 862981|Using the Ollama ...|             8|                  1018|                   2|[llm, machinelear...|\n",
      "|1169909|SSL for localhost...|            63|                   988|                   4|[webdev, nginx, s...|\n",
      "|1408863|Mastering Relatio...|            50|                   749|                  20|[webdev, learning...|\n",
      "|    264|Join us for the n...|            48|                   702|                   6|[devchallenge, fr...|\n",
      "| 510192|Avoiding Beginner...|            51|                   673|                  12|[go, devops, back...|\n",
      "|1598603|I’ve worked in IT...|            67|                   634|                   5|[burnout, product...|\n",
      "| 164512|Processing One Bi...|            70|                   625|                  11|  [php, programming]|\n",
      "| 973409|Introducing Dev E...|            80|                   597|                   3|[webdev, beginner...|\n",
      "| 956307|The guide to Git ...|            47|                   541|                  12|[webdev, beginner...|\n",
      "| 397557|Release Radar · S...|             0|                   517|                   5|[github, communit...|\n",
      "| 542277|Why React Won the...|           174|                   514|                   7|[react, reactnati...|\n",
      "|    264|Join us for the G...|            91|                   504|                   6|[devchallenge, gi...|\n",
      "|2711665|Run DeepSeek-R1 o...|            19|                   472|                  10|[ai, llm, tutoria...|\n",
      "| 521662|Be a better devel...|            50|                   468|                   6|[git, github, web...|\n",
      "|      3|Join Us For The F...|            84|                   444|                   9|[devchallenge, st...|\n",
      "| 362774| Dear developers ...|            82|                   437|                   5|[programming, pro...|\n",
      "| 564890|12 Tips from a Mi...|            51|                   427|                   5|[programming, car...|\n",
      "| 186199|Web Components Ar...|           121|                   425|                  11|[webdev, javascri...|\n",
      "+-------+--------------------+--------------+----------------------+--------------------+--------------------+\n",
      "only showing top 20 rows\n",
      "\n"
     ]
    }
   ],
   "source": [
    "#самые популярные статьи по реакциям\n",
    "articles.select('user_id', 'title', 'comments_count', 'public_reactions_count', 'reading_time_minutes', 'tag_list').sort(desc('public_reactions_count')).limit(50).show()"
   ]
  },
  {
   "cell_type": "code",
   "execution_count": null,
   "id": "ad4a8a36-4a45-4d8a-a306-fc708e7bfdf8",
   "metadata": {},
   "outputs": [
    {
     "name": "stdout",
     "output_type": "stream",
     "text": [
      "+-------+--------------------+--------------+----------------------+--------------------+--------------------+\n",
      "|user_id|               title|comments_count|public_reactions_count|reading_time_minutes|            tag_list|\n",
      "+-------+--------------------+--------------+----------------------+--------------------+--------------------+\n",
      "|  31047|Welcome Thread - ...|           354|                    47|                   1|           [welcome]|\n",
      "| 262904|Do You Still Use ...|           320|                   216|                   1|[discuss, git, te...|\n",
      "|  31047|Welcome Thread - ...|           306|                    49|                   1|           [welcome]|\n",
      "|  31047|Welcome Thread - ...|           287|                    50|                   1|           [welcome]|\n",
      "|  31047|Welcome Thread - ...|           282|                    34|                   1|           [welcome]|\n",
      "|  31047|Welcome Thread - ...|           280|                    37|                   1|           [welcome]|\n",
      "|  31047|Welcome Thread - ...|           278|                    48|                   1|           [welcome]|\n",
      "|  31047|Welcome Thread - ...|           276|                    40|                   1|           [welcome]|\n",
      "|  31047|Welcome Thread - ...|           273|                    36|                   1|           [welcome]|\n",
      "|  31047|Welcome Thread - ...|           267|                    48|                   1|           [welcome]|\n",
      "|  31047|Welcome Thread - ...|           264|                    25|                   1|           [welcome]|\n",
      "|  31047|Welcome Thread - ...|           253|                    32|                   1|           [welcome]|\n",
      "|  31047|Welcome Thread - ...|           250|                    32|                   1|           [welcome]|\n",
      "|  31047|Welcome Thread - ...|           250|                    19|                   1|           [welcome]|\n",
      "|  31047|Welcome Thread - ...|           230|                    33|                   1|           [welcome]|\n",
      "|  31047|Welcome Thread - ...|           227|                    37|                   1|           [welcome]|\n",
      "|  31047|Welcome Thread - ...|           215|                    35|                   1|           [welcome]|\n",
      "|  31047|Welcome Thread - ...|           211|                    28|                   1|           [welcome]|\n",
      "|  31047|Welcome Thread - ...|           207|                    51|                   1|           [welcome]|\n",
      "|  31047|Welcome Thread - ...|           205|                    49|                   1|           [welcome]|\n",
      "+-------+--------------------+--------------+----------------------+--------------------+--------------------+\n",
      "only showing top 20 rows\n",
      "\n"
     ]
    }
   ],
   "source": [
    "#самые комментируемые статьи \n",
    "articles.select('user_id', 'title', 'comments_count', 'public_reactions_count', 'reading_time_minutes', 'tag_list').sort(desc('comments_count')).limit(50).show()"
   ]
  }
 ],
 "metadata": {
  "kernelspec": {
   "display_name": "Python 3 (ipykernel)",
   "language": "python",
   "name": "python3"
  },
  "language_info": {
   "codemirror_mode": {
    "name": "ipython",
    "version": 3
   },
   "file_extension": ".py",
   "mimetype": "text/x-python",
   "name": "python",
   "nbconvert_exporter": "python",
   "pygments_lexer": "ipython3",
   "version": "3.11.6"
  }
 },
 "nbformat": 4,
 "nbformat_minor": 5
}
